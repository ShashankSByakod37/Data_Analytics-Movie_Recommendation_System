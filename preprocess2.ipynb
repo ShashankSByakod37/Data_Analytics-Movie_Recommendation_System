{
  "nbformat": 4,
  "nbformat_minor": 0,
  "metadata": {
    "colab": {
      "name": "preprocess2.ipynb",
      "provenance": [],
      "collapsed_sections": [],
      "toc_visible": true
    },
    "kernelspec": {
      "name": "python3",
      "display_name": "Python 3"
    }
  },
  "cells": [
    {
      "cell_type": "code",
      "metadata": {
        "id": "oZMrqz7hLlf7"
      },
      "source": [
        "import numpy as np\n",
        "import pandas as pd"
      ],
      "execution_count": null,
      "outputs": []
    },
    {
      "cell_type": "code",
      "metadata": {
        "id": "Gm9vZG87fpTZ",
        "colab": {
          "base_uri": "https://localhost:8080/"
        },
        "outputId": "15eac15d-6f3e-437d-f78c-27ab329010c9"
      },
      "source": [
        "from google.colab import drive\n",
        "drive.mount('/content/drive')"
      ],
      "execution_count": null,
      "outputs": [
        {
          "output_type": "stream",
          "text": [
            "Drive already mounted at /content/drive; to attempt to forcibly remount, call drive.mount(\"/content/drive\", force_remount=True).\n"
          ],
          "name": "stdout"
        }
      ]
    },
    {
      "cell_type": "markdown",
      "metadata": {
        "id": "jExmCNMWUyh6"
      },
      "source": [
        "#Data preprocessing on credits.csv file"
      ]
    },
    {
      "cell_type": "code",
      "metadata": {
        "id": "H0Gw7OTlUnt6"
      },
      "source": [
        "credits = pd.read_csv('/content/drive/MyDrive/deviants_pg5/complted data/credits.csv')\n"
      ],
      "execution_count": null,
      "outputs": []
    },
    {
      "cell_type": "code",
      "metadata": {
        "id": "E2fSurHvXkob",
        "colab": {
          "base_uri": "https://localhost:8080/",
          "height": 204
        },
        "outputId": "e4d9a8de-ee73-469a-fb47-84f514e613e9"
      },
      "source": [
        "credits.head()"
      ],
      "execution_count": null,
      "outputs": [
        {
          "output_type": "execute_result",
          "data": {
            "text/html": [
              "<div>\n",
              "<style scoped>\n",
              "    .dataframe tbody tr th:only-of-type {\n",
              "        vertical-align: middle;\n",
              "    }\n",
              "\n",
              "    .dataframe tbody tr th {\n",
              "        vertical-align: top;\n",
              "    }\n",
              "\n",
              "    .dataframe thead th {\n",
              "        text-align: right;\n",
              "    }\n",
              "</style>\n",
              "<table border=\"1\" class=\"dataframe\">\n",
              "  <thead>\n",
              "    <tr style=\"text-align: right;\">\n",
              "      <th></th>\n",
              "      <th>cast</th>\n",
              "      <th>crew</th>\n",
              "      <th>id</th>\n",
              "    </tr>\n",
              "  </thead>\n",
              "  <tbody>\n",
              "    <tr>\n",
              "      <th>0</th>\n",
              "      <td>[{'cast_id': 14, 'character': 'Woody (voice)',...</td>\n",
              "      <td>[{'credit_id': '52fe4284c3a36847f8024f49', 'de...</td>\n",
              "      <td>862</td>\n",
              "    </tr>\n",
              "    <tr>\n",
              "      <th>1</th>\n",
              "      <td>[{'cast_id': 1, 'character': 'Alan Parrish', '...</td>\n",
              "      <td>[{'credit_id': '52fe44bfc3a36847f80a7cd1', 'de...</td>\n",
              "      <td>8844</td>\n",
              "    </tr>\n",
              "    <tr>\n",
              "      <th>2</th>\n",
              "      <td>[{'cast_id': 2, 'character': 'Max Goldman', 'c...</td>\n",
              "      <td>[{'credit_id': '52fe466a9251416c75077a89', 'de...</td>\n",
              "      <td>15602</td>\n",
              "    </tr>\n",
              "    <tr>\n",
              "      <th>3</th>\n",
              "      <td>[{'cast_id': 1, 'character': \"Savannah 'Vannah...</td>\n",
              "      <td>[{'credit_id': '52fe44779251416c91011acb', 'de...</td>\n",
              "      <td>31357</td>\n",
              "    </tr>\n",
              "    <tr>\n",
              "      <th>4</th>\n",
              "      <td>[{'cast_id': 1, 'character': 'George Banks', '...</td>\n",
              "      <td>[{'credit_id': '52fe44959251416c75039ed7', 'de...</td>\n",
              "      <td>11862</td>\n",
              "    </tr>\n",
              "  </tbody>\n",
              "</table>\n",
              "</div>"
            ],
            "text/plain": [
              "                                                cast  ...     id\n",
              "0  [{'cast_id': 14, 'character': 'Woody (voice)',...  ...    862\n",
              "1  [{'cast_id': 1, 'character': 'Alan Parrish', '...  ...   8844\n",
              "2  [{'cast_id': 2, 'character': 'Max Goldman', 'c...  ...  15602\n",
              "3  [{'cast_id': 1, 'character': \"Savannah 'Vannah...  ...  31357\n",
              "4  [{'cast_id': 1, 'character': 'George Banks', '...  ...  11862\n",
              "\n",
              "[5 rows x 3 columns]"
            ]
          },
          "metadata": {
            "tags": []
          },
          "execution_count": 105
        }
      ]
    },
    {
      "cell_type": "code",
      "metadata": {
        "id": "pfipNFpIk4VU"
      },
      "source": [
        "keywords = pd.read_csv('/content/drive/MyDrive/deviants_pg5/complted data/keywords.csv')"
      ],
      "execution_count": null,
      "outputs": []
    },
    {
      "cell_type": "code",
      "metadata": {
        "id": "j9i_iIsHl2_P",
        "colab": {
          "base_uri": "https://localhost:8080/",
          "height": 419
        },
        "outputId": "25f498d8-49cc-43ce-8454-765a70e23071"
      },
      "source": [
        "keywords"
      ],
      "execution_count": null,
      "outputs": [
        {
          "output_type": "execute_result",
          "data": {
            "text/html": [
              "<div>\n",
              "<style scoped>\n",
              "    .dataframe tbody tr th:only-of-type {\n",
              "        vertical-align: middle;\n",
              "    }\n",
              "\n",
              "    .dataframe tbody tr th {\n",
              "        vertical-align: top;\n",
              "    }\n",
              "\n",
              "    .dataframe thead th {\n",
              "        text-align: right;\n",
              "    }\n",
              "</style>\n",
              "<table border=\"1\" class=\"dataframe\">\n",
              "  <thead>\n",
              "    <tr style=\"text-align: right;\">\n",
              "      <th></th>\n",
              "      <th>id</th>\n",
              "      <th>keywords</th>\n",
              "    </tr>\n",
              "  </thead>\n",
              "  <tbody>\n",
              "    <tr>\n",
              "      <th>0</th>\n",
              "      <td>862</td>\n",
              "      <td>[{'id': 931, 'name': 'jealousy'}, {'id': 4290,...</td>\n",
              "    </tr>\n",
              "    <tr>\n",
              "      <th>1</th>\n",
              "      <td>8844</td>\n",
              "      <td>[{'id': 10090, 'name': 'board game'}, {'id': 1...</td>\n",
              "    </tr>\n",
              "    <tr>\n",
              "      <th>2</th>\n",
              "      <td>15602</td>\n",
              "      <td>[{'id': 1495, 'name': 'fishing'}, {'id': 12392...</td>\n",
              "    </tr>\n",
              "    <tr>\n",
              "      <th>3</th>\n",
              "      <td>31357</td>\n",
              "      <td>[{'id': 818, 'name': 'based on novel'}, {'id':...</td>\n",
              "    </tr>\n",
              "    <tr>\n",
              "      <th>4</th>\n",
              "      <td>11862</td>\n",
              "      <td>[{'id': 1009, 'name': 'baby'}, {'id': 1599, 'n...</td>\n",
              "    </tr>\n",
              "    <tr>\n",
              "      <th>...</th>\n",
              "      <td>...</td>\n",
              "      <td>...</td>\n",
              "    </tr>\n",
              "    <tr>\n",
              "      <th>46414</th>\n",
              "      <td>439050</td>\n",
              "      <td>[{'id': 10703, 'name': 'tragic love'}]</td>\n",
              "    </tr>\n",
              "    <tr>\n",
              "      <th>46415</th>\n",
              "      <td>111109</td>\n",
              "      <td>[{'id': 2679, 'name': 'artist'}, {'id': 14531,...</td>\n",
              "    </tr>\n",
              "    <tr>\n",
              "      <th>46416</th>\n",
              "      <td>67758</td>\n",
              "      <td>[]</td>\n",
              "    </tr>\n",
              "    <tr>\n",
              "      <th>46417</th>\n",
              "      <td>227506</td>\n",
              "      <td>[]</td>\n",
              "    </tr>\n",
              "    <tr>\n",
              "      <th>46418</th>\n",
              "      <td>461257</td>\n",
              "      <td>[]</td>\n",
              "    </tr>\n",
              "  </tbody>\n",
              "</table>\n",
              "<p>46419 rows × 2 columns</p>\n",
              "</div>"
            ],
            "text/plain": [
              "           id                                           keywords\n",
              "0         862  [{'id': 931, 'name': 'jealousy'}, {'id': 4290,...\n",
              "1        8844  [{'id': 10090, 'name': 'board game'}, {'id': 1...\n",
              "2       15602  [{'id': 1495, 'name': 'fishing'}, {'id': 12392...\n",
              "3       31357  [{'id': 818, 'name': 'based on novel'}, {'id':...\n",
              "4       11862  [{'id': 1009, 'name': 'baby'}, {'id': 1599, 'n...\n",
              "...       ...                                                ...\n",
              "46414  439050             [{'id': 10703, 'name': 'tragic love'}]\n",
              "46415  111109  [{'id': 2679, 'name': 'artist'}, {'id': 14531,...\n",
              "46416   67758                                                 []\n",
              "46417  227506                                                 []\n",
              "46418  461257                                                 []\n",
              "\n",
              "[46419 rows x 2 columns]"
            ]
          },
          "metadata": {
            "tags": []
          },
          "execution_count": 107
        }
      ]
    },
    {
      "cell_type": "code",
      "metadata": {
        "id": "3hCJK1Tpl3g3",
        "colab": {
          "base_uri": "https://localhost:8080/",
          "height": 419
        },
        "outputId": "ef82b81d-e7b6-4cd5-b5a8-399c9dd83657"
      },
      "source": [
        "keywords"
      ],
      "execution_count": null,
      "outputs": [
        {
          "output_type": "execute_result",
          "data": {
            "text/html": [
              "<div>\n",
              "<style scoped>\n",
              "    .dataframe tbody tr th:only-of-type {\n",
              "        vertical-align: middle;\n",
              "    }\n",
              "\n",
              "    .dataframe tbody tr th {\n",
              "        vertical-align: top;\n",
              "    }\n",
              "\n",
              "    .dataframe thead th {\n",
              "        text-align: right;\n",
              "    }\n",
              "</style>\n",
              "<table border=\"1\" class=\"dataframe\">\n",
              "  <thead>\n",
              "    <tr style=\"text-align: right;\">\n",
              "      <th></th>\n",
              "      <th>id</th>\n",
              "      <th>keywords</th>\n",
              "    </tr>\n",
              "  </thead>\n",
              "  <tbody>\n",
              "    <tr>\n",
              "      <th>0</th>\n",
              "      <td>862</td>\n",
              "      <td>[{'id': 931, 'name': 'jealousy'}, {'id': 4290,...</td>\n",
              "    </tr>\n",
              "    <tr>\n",
              "      <th>1</th>\n",
              "      <td>8844</td>\n",
              "      <td>[{'id': 10090, 'name': 'board game'}, {'id': 1...</td>\n",
              "    </tr>\n",
              "    <tr>\n",
              "      <th>2</th>\n",
              "      <td>15602</td>\n",
              "      <td>[{'id': 1495, 'name': 'fishing'}, {'id': 12392...</td>\n",
              "    </tr>\n",
              "    <tr>\n",
              "      <th>3</th>\n",
              "      <td>31357</td>\n",
              "      <td>[{'id': 818, 'name': 'based on novel'}, {'id':...</td>\n",
              "    </tr>\n",
              "    <tr>\n",
              "      <th>4</th>\n",
              "      <td>11862</td>\n",
              "      <td>[{'id': 1009, 'name': 'baby'}, {'id': 1599, 'n...</td>\n",
              "    </tr>\n",
              "    <tr>\n",
              "      <th>...</th>\n",
              "      <td>...</td>\n",
              "      <td>...</td>\n",
              "    </tr>\n",
              "    <tr>\n",
              "      <th>46414</th>\n",
              "      <td>439050</td>\n",
              "      <td>[{'id': 10703, 'name': 'tragic love'}]</td>\n",
              "    </tr>\n",
              "    <tr>\n",
              "      <th>46415</th>\n",
              "      <td>111109</td>\n",
              "      <td>[{'id': 2679, 'name': 'artist'}, {'id': 14531,...</td>\n",
              "    </tr>\n",
              "    <tr>\n",
              "      <th>46416</th>\n",
              "      <td>67758</td>\n",
              "      <td>[]</td>\n",
              "    </tr>\n",
              "    <tr>\n",
              "      <th>46417</th>\n",
              "      <td>227506</td>\n",
              "      <td>[]</td>\n",
              "    </tr>\n",
              "    <tr>\n",
              "      <th>46418</th>\n",
              "      <td>461257</td>\n",
              "      <td>[]</td>\n",
              "    </tr>\n",
              "  </tbody>\n",
              "</table>\n",
              "<p>46419 rows × 2 columns</p>\n",
              "</div>"
            ],
            "text/plain": [
              "           id                                           keywords\n",
              "0         862  [{'id': 931, 'name': 'jealousy'}, {'id': 4290,...\n",
              "1        8844  [{'id': 10090, 'name': 'board game'}, {'id': 1...\n",
              "2       15602  [{'id': 1495, 'name': 'fishing'}, {'id': 12392...\n",
              "3       31357  [{'id': 818, 'name': 'based on novel'}, {'id':...\n",
              "4       11862  [{'id': 1009, 'name': 'baby'}, {'id': 1599, 'n...\n",
              "...       ...                                                ...\n",
              "46414  439050             [{'id': 10703, 'name': 'tragic love'}]\n",
              "46415  111109  [{'id': 2679, 'name': 'artist'}, {'id': 14531,...\n",
              "46416   67758                                                 []\n",
              "46417  227506                                                 []\n",
              "46418  461257                                                 []\n",
              "\n",
              "[46419 rows x 2 columns]"
            ]
          },
          "metadata": {
            "tags": []
          },
          "execution_count": 108
        }
      ]
    },
    {
      "cell_type": "code",
      "metadata": {
        "id": "MRbyG6FvXs5Y",
        "colab": {
          "base_uri": "https://localhost:8080/"
        },
        "outputId": "36fa219e-7fc4-43b9-d900-c06fa52eaab2"
      },
      "source": [
        "meta = pd.read_csv('/content/drive/MyDrive/deviants_pg5/complted data/movies_metadata.csv')"
      ],
      "execution_count": null,
      "outputs": [
        {
          "output_type": "stream",
          "text": [
            "/usr/local/lib/python3.6/dist-packages/IPython/core/interactiveshell.py:2718: DtypeWarning: Columns (10) have mixed types.Specify dtype option on import or set low_memory=False.\n",
            "  interactivity=interactivity, compiler=compiler, result=result)\n"
          ],
          "name": "stderr"
        }
      ]
    },
    {
      "cell_type": "code",
      "metadata": {
        "id": "KTxF4VChYIBk",
        "colab": {
          "base_uri": "https://localhost:8080/",
          "height": 1000
        },
        "outputId": "dbc822d2-25c5-45ed-cc7d-31ddbd322d27"
      },
      "source": [
        "meta"
      ],
      "execution_count": null,
      "outputs": [
        {
          "output_type": "execute_result",
          "data": {
            "text/html": [
              "<div>\n",
              "<style scoped>\n",
              "    .dataframe tbody tr th:only-of-type {\n",
              "        vertical-align: middle;\n",
              "    }\n",
              "\n",
              "    .dataframe tbody tr th {\n",
              "        vertical-align: top;\n",
              "    }\n",
              "\n",
              "    .dataframe thead th {\n",
              "        text-align: right;\n",
              "    }\n",
              "</style>\n",
              "<table border=\"1\" class=\"dataframe\">\n",
              "  <thead>\n",
              "    <tr style=\"text-align: right;\">\n",
              "      <th></th>\n",
              "      <th>adult</th>\n",
              "      <th>belongs_to_collection</th>\n",
              "      <th>budget</th>\n",
              "      <th>genres</th>\n",
              "      <th>homepage</th>\n",
              "      <th>id</th>\n",
              "      <th>imdb_id</th>\n",
              "      <th>original_language</th>\n",
              "      <th>original_title</th>\n",
              "      <th>overview</th>\n",
              "      <th>popularity</th>\n",
              "      <th>poster_path</th>\n",
              "      <th>production_companies</th>\n",
              "      <th>production_countries</th>\n",
              "      <th>release_date</th>\n",
              "      <th>revenue</th>\n",
              "      <th>runtime</th>\n",
              "      <th>spoken_languages</th>\n",
              "      <th>status</th>\n",
              "      <th>tagline</th>\n",
              "      <th>title</th>\n",
              "      <th>video</th>\n",
              "      <th>vote_average</th>\n",
              "      <th>vote_count</th>\n",
              "    </tr>\n",
              "  </thead>\n",
              "  <tbody>\n",
              "    <tr>\n",
              "      <th>0</th>\n",
              "      <td>False</td>\n",
              "      <td>{'id': 10194, 'name': 'Toy Story Collection', ...</td>\n",
              "      <td>30000000</td>\n",
              "      <td>[{'id': 16, 'name': 'Animation'}, {'id': 35, '...</td>\n",
              "      <td>http://toystory.disney.com/toy-story</td>\n",
              "      <td>862</td>\n",
              "      <td>tt0114709</td>\n",
              "      <td>en</td>\n",
              "      <td>Toy Story</td>\n",
              "      <td>Led by Woody, Andy's toys live happily in his ...</td>\n",
              "      <td>21.9469</td>\n",
              "      <td>/rhIRbceoE9lR4veEXuwCC2wARtG.jpg</td>\n",
              "      <td>[{'name': 'Pixar Animation Studios', 'id': 3}]</td>\n",
              "      <td>[{'iso_3166_1': 'US', 'name': 'United States o...</td>\n",
              "      <td>1995-10-30</td>\n",
              "      <td>373554033.0</td>\n",
              "      <td>81.0</td>\n",
              "      <td>[{'iso_639_1': 'en', 'name': 'English'}]</td>\n",
              "      <td>Released</td>\n",
              "      <td>NaN</td>\n",
              "      <td>Toy Story</td>\n",
              "      <td>False</td>\n",
              "      <td>7.7</td>\n",
              "      <td>5415.0</td>\n",
              "    </tr>\n",
              "    <tr>\n",
              "      <th>1</th>\n",
              "      <td>False</td>\n",
              "      <td>NaN</td>\n",
              "      <td>65000000</td>\n",
              "      <td>[{'id': 12, 'name': 'Adventure'}, {'id': 14, '...</td>\n",
              "      <td>NaN</td>\n",
              "      <td>8844</td>\n",
              "      <td>tt0113497</td>\n",
              "      <td>en</td>\n",
              "      <td>Jumanji</td>\n",
              "      <td>When siblings Judy and Peter discover an encha...</td>\n",
              "      <td>17.0155</td>\n",
              "      <td>/vzmL6fP7aPKNKPRTFnZmiUfciyV.jpg</td>\n",
              "      <td>[{'name': 'TriStar Pictures', 'id': 559}, {'na...</td>\n",
              "      <td>[{'iso_3166_1': 'US', 'name': 'United States o...</td>\n",
              "      <td>1995-12-15</td>\n",
              "      <td>262797249.0</td>\n",
              "      <td>104.0</td>\n",
              "      <td>[{'iso_639_1': 'en', 'name': 'English'}, {'iso...</td>\n",
              "      <td>Released</td>\n",
              "      <td>Roll the dice and unleash the excitement!</td>\n",
              "      <td>Jumanji</td>\n",
              "      <td>False</td>\n",
              "      <td>6.9</td>\n",
              "      <td>2413.0</td>\n",
              "    </tr>\n",
              "    <tr>\n",
              "      <th>2</th>\n",
              "      <td>False</td>\n",
              "      <td>{'id': 119050, 'name': 'Grumpy Old Men Collect...</td>\n",
              "      <td>0</td>\n",
              "      <td>[{'id': 10749, 'name': 'Romance'}, {'id': 35, ...</td>\n",
              "      <td>NaN</td>\n",
              "      <td>15602</td>\n",
              "      <td>tt0113228</td>\n",
              "      <td>en</td>\n",
              "      <td>Grumpier Old Men</td>\n",
              "      <td>A family wedding reignites the ancient feud be...</td>\n",
              "      <td>11.7129</td>\n",
              "      <td>/6ksm1sjKMFLbO7UY2i6G1ju9SML.jpg</td>\n",
              "      <td>[{'name': 'Warner Bros.', 'id': 6194}, {'name'...</td>\n",
              "      <td>[{'iso_3166_1': 'US', 'name': 'United States o...</td>\n",
              "      <td>1995-12-22</td>\n",
              "      <td>0.0</td>\n",
              "      <td>101.0</td>\n",
              "      <td>[{'iso_639_1': 'en', 'name': 'English'}]</td>\n",
              "      <td>Released</td>\n",
              "      <td>Still Yelling. Still Fighting. Still Ready for...</td>\n",
              "      <td>Grumpier Old Men</td>\n",
              "      <td>False</td>\n",
              "      <td>6.5</td>\n",
              "      <td>92.0</td>\n",
              "    </tr>\n",
              "    <tr>\n",
              "      <th>3</th>\n",
              "      <td>False</td>\n",
              "      <td>NaN</td>\n",
              "      <td>16000000</td>\n",
              "      <td>[{'id': 35, 'name': 'Comedy'}, {'id': 18, 'nam...</td>\n",
              "      <td>NaN</td>\n",
              "      <td>31357</td>\n",
              "      <td>tt0114885</td>\n",
              "      <td>en</td>\n",
              "      <td>Waiting to Exhale</td>\n",
              "      <td>Cheated on, mistreated and stepped on, the wom...</td>\n",
              "      <td>3.85949</td>\n",
              "      <td>/16XOMpEaLWkrcPqSQqhTmeJuqQl.jpg</td>\n",
              "      <td>[{'name': 'Twentieth Century Fox Film Corporat...</td>\n",
              "      <td>[{'iso_3166_1': 'US', 'name': 'United States o...</td>\n",
              "      <td>1995-12-22</td>\n",
              "      <td>81452156.0</td>\n",
              "      <td>127.0</td>\n",
              "      <td>[{'iso_639_1': 'en', 'name': 'English'}]</td>\n",
              "      <td>Released</td>\n",
              "      <td>Friends are the people who let you be yourself...</td>\n",
              "      <td>Waiting to Exhale</td>\n",
              "      <td>False</td>\n",
              "      <td>6.1</td>\n",
              "      <td>34.0</td>\n",
              "    </tr>\n",
              "    <tr>\n",
              "      <th>4</th>\n",
              "      <td>False</td>\n",
              "      <td>{'id': 96871, 'name': 'Father of the Bride Col...</td>\n",
              "      <td>0</td>\n",
              "      <td>[{'id': 35, 'name': 'Comedy'}]</td>\n",
              "      <td>NaN</td>\n",
              "      <td>11862</td>\n",
              "      <td>tt0113041</td>\n",
              "      <td>en</td>\n",
              "      <td>Father of the Bride Part II</td>\n",
              "      <td>Just when George Banks has recovered from his ...</td>\n",
              "      <td>8.38752</td>\n",
              "      <td>/e64sOI48hQXyru7naBFyssKFxVd.jpg</td>\n",
              "      <td>[{'name': 'Sandollar Productions', 'id': 5842}...</td>\n",
              "      <td>[{'iso_3166_1': 'US', 'name': 'United States o...</td>\n",
              "      <td>1995-02-10</td>\n",
              "      <td>76578911.0</td>\n",
              "      <td>106.0</td>\n",
              "      <td>[{'iso_639_1': 'en', 'name': 'English'}]</td>\n",
              "      <td>Released</td>\n",
              "      <td>Just When His World Is Back To Normal... He's ...</td>\n",
              "      <td>Father of the Bride Part II</td>\n",
              "      <td>False</td>\n",
              "      <td>5.7</td>\n",
              "      <td>173.0</td>\n",
              "    </tr>\n",
              "    <tr>\n",
              "      <th>...</th>\n",
              "      <td>...</td>\n",
              "      <td>...</td>\n",
              "      <td>...</td>\n",
              "      <td>...</td>\n",
              "      <td>...</td>\n",
              "      <td>...</td>\n",
              "      <td>...</td>\n",
              "      <td>...</td>\n",
              "      <td>...</td>\n",
              "      <td>...</td>\n",
              "      <td>...</td>\n",
              "      <td>...</td>\n",
              "      <td>...</td>\n",
              "      <td>...</td>\n",
              "      <td>...</td>\n",
              "      <td>...</td>\n",
              "      <td>...</td>\n",
              "      <td>...</td>\n",
              "      <td>...</td>\n",
              "      <td>...</td>\n",
              "      <td>...</td>\n",
              "      <td>...</td>\n",
              "      <td>...</td>\n",
              "      <td>...</td>\n",
              "    </tr>\n",
              "    <tr>\n",
              "      <th>45461</th>\n",
              "      <td>False</td>\n",
              "      <td>NaN</td>\n",
              "      <td>0</td>\n",
              "      <td>[{'id': 18, 'name': 'Drama'}, {'id': 10751, 'n...</td>\n",
              "      <td>http://www.imdb.com/title/tt6209470/</td>\n",
              "      <td>439050</td>\n",
              "      <td>tt6209470</td>\n",
              "      <td>fa</td>\n",
              "      <td>رگ خواب</td>\n",
              "      <td>Rising and falling between a man and woman.</td>\n",
              "      <td>0.072051</td>\n",
              "      <td>/jldsYflnId4tTWPx8es3uzsB1I8.jpg</td>\n",
              "      <td>[]</td>\n",
              "      <td>[{'iso_3166_1': 'IR', 'name': 'Iran'}]</td>\n",
              "      <td>NaN</td>\n",
              "      <td>0.0</td>\n",
              "      <td>90.0</td>\n",
              "      <td>[{'iso_639_1': 'fa', 'name': 'فارسی'}]</td>\n",
              "      <td>Released</td>\n",
              "      <td>Rising and falling between a man and woman</td>\n",
              "      <td>Subdue</td>\n",
              "      <td>False</td>\n",
              "      <td>4.0</td>\n",
              "      <td>1.0</td>\n",
              "    </tr>\n",
              "    <tr>\n",
              "      <th>45462</th>\n",
              "      <td>False</td>\n",
              "      <td>NaN</td>\n",
              "      <td>0</td>\n",
              "      <td>[{'id': 18, 'name': 'Drama'}]</td>\n",
              "      <td>NaN</td>\n",
              "      <td>111109</td>\n",
              "      <td>tt2028550</td>\n",
              "      <td>tl</td>\n",
              "      <td>Siglo ng Pagluluwal</td>\n",
              "      <td>An artist struggles to finish his work while a...</td>\n",
              "      <td>0.178241</td>\n",
              "      <td>/xZkmxsNmYXJbKVsTRLLx3pqGHx7.jpg</td>\n",
              "      <td>[{'name': 'Sine Olivia', 'id': 19653}]</td>\n",
              "      <td>[{'iso_3166_1': 'PH', 'name': 'Philippines'}]</td>\n",
              "      <td>2011-11-17</td>\n",
              "      <td>0.0</td>\n",
              "      <td>360.0</td>\n",
              "      <td>[{'iso_639_1': 'tl', 'name': ''}]</td>\n",
              "      <td>Released</td>\n",
              "      <td>NaN</td>\n",
              "      <td>Century of Birthing</td>\n",
              "      <td>False</td>\n",
              "      <td>9.0</td>\n",
              "      <td>3.0</td>\n",
              "    </tr>\n",
              "    <tr>\n",
              "      <th>45463</th>\n",
              "      <td>False</td>\n",
              "      <td>NaN</td>\n",
              "      <td>0</td>\n",
              "      <td>[{'id': 28, 'name': 'Action'}, {'id': 18, 'nam...</td>\n",
              "      <td>NaN</td>\n",
              "      <td>67758</td>\n",
              "      <td>tt0303758</td>\n",
              "      <td>en</td>\n",
              "      <td>Betrayal</td>\n",
              "      <td>When one of her hits goes wrong, a professiona...</td>\n",
              "      <td>0.903007</td>\n",
              "      <td>/d5bX92nDsISNhu3ZT69uHwmfCGw.jpg</td>\n",
              "      <td>[{'name': 'American World Pictures', 'id': 6165}]</td>\n",
              "      <td>[{'iso_3166_1': 'US', 'name': 'United States o...</td>\n",
              "      <td>2003-08-01</td>\n",
              "      <td>0.0</td>\n",
              "      <td>90.0</td>\n",
              "      <td>[{'iso_639_1': 'en', 'name': 'English'}]</td>\n",
              "      <td>Released</td>\n",
              "      <td>A deadly game of wits.</td>\n",
              "      <td>Betrayal</td>\n",
              "      <td>False</td>\n",
              "      <td>3.8</td>\n",
              "      <td>6.0</td>\n",
              "    </tr>\n",
              "    <tr>\n",
              "      <th>45464</th>\n",
              "      <td>False</td>\n",
              "      <td>NaN</td>\n",
              "      <td>0</td>\n",
              "      <td>[]</td>\n",
              "      <td>NaN</td>\n",
              "      <td>227506</td>\n",
              "      <td>tt0008536</td>\n",
              "      <td>en</td>\n",
              "      <td>Satana likuyushchiy</td>\n",
              "      <td>In a small town live two brothers, one a minis...</td>\n",
              "      <td>0.003503</td>\n",
              "      <td>/aorBPO7ak8e8iJKT5OcqYxU3jlK.jpg</td>\n",
              "      <td>[{'name': 'Yermoliev', 'id': 88753}]</td>\n",
              "      <td>[{'iso_3166_1': 'RU', 'name': 'Russia'}]</td>\n",
              "      <td>1917-10-21</td>\n",
              "      <td>0.0</td>\n",
              "      <td>87.0</td>\n",
              "      <td>[]</td>\n",
              "      <td>Released</td>\n",
              "      <td>NaN</td>\n",
              "      <td>Satan Triumphant</td>\n",
              "      <td>False</td>\n",
              "      <td>0.0</td>\n",
              "      <td>0.0</td>\n",
              "    </tr>\n",
              "    <tr>\n",
              "      <th>45465</th>\n",
              "      <td>False</td>\n",
              "      <td>NaN</td>\n",
              "      <td>0</td>\n",
              "      <td>[]</td>\n",
              "      <td>NaN</td>\n",
              "      <td>461257</td>\n",
              "      <td>tt6980792</td>\n",
              "      <td>en</td>\n",
              "      <td>Queerama</td>\n",
              "      <td>50 years after decriminalisation of homosexual...</td>\n",
              "      <td>0.163015</td>\n",
              "      <td>/s5UkZt6NTsrS7ZF0Rh8nzupRlIU.jpg</td>\n",
              "      <td>[]</td>\n",
              "      <td>[{'iso_3166_1': 'GB', 'name': 'United Kingdom'}]</td>\n",
              "      <td>2017-06-09</td>\n",
              "      <td>0.0</td>\n",
              "      <td>75.0</td>\n",
              "      <td>[{'iso_639_1': 'en', 'name': 'English'}]</td>\n",
              "      <td>Released</td>\n",
              "      <td>NaN</td>\n",
              "      <td>Queerama</td>\n",
              "      <td>False</td>\n",
              "      <td>0.0</td>\n",
              "      <td>0.0</td>\n",
              "    </tr>\n",
              "  </tbody>\n",
              "</table>\n",
              "<p>45466 rows × 24 columns</p>\n",
              "</div>"
            ],
            "text/plain": [
              "       adult  ... vote_count\n",
              "0      False  ...     5415.0\n",
              "1      False  ...     2413.0\n",
              "2      False  ...       92.0\n",
              "3      False  ...       34.0\n",
              "4      False  ...      173.0\n",
              "...      ...  ...        ...\n",
              "45461  False  ...        1.0\n",
              "45462  False  ...        3.0\n",
              "45463  False  ...        6.0\n",
              "45464  False  ...        0.0\n",
              "45465  False  ...        0.0\n",
              "\n",
              "[45466 rows x 24 columns]"
            ]
          },
          "metadata": {
            "tags": []
          },
          "execution_count": 110
        }
      ]
    },
    {
      "cell_type": "code",
      "metadata": {
        "id": "o3XG2RVLig2b",
        "colab": {
          "base_uri": "https://localhost:8080/"
        },
        "outputId": "73137e41-e09d-4a51-aa6a-244d7304cda3"
      },
      "source": [
        "list(meta.columns)"
      ],
      "execution_count": null,
      "outputs": [
        {
          "output_type": "execute_result",
          "data": {
            "text/plain": [
              "['adult',\n",
              " 'belongs_to_collection',\n",
              " 'budget',\n",
              " 'genres',\n",
              " 'homepage',\n",
              " 'id',\n",
              " 'imdb_id',\n",
              " 'original_language',\n",
              " 'original_title',\n",
              " 'overview',\n",
              " 'popularity',\n",
              " 'poster_path',\n",
              " 'production_companies',\n",
              " 'production_countries',\n",
              " 'release_date',\n",
              " 'revenue',\n",
              " 'runtime',\n",
              " 'spoken_languages',\n",
              " 'status',\n",
              " 'tagline',\n",
              " 'title',\n",
              " 'video',\n",
              " 'vote_average',\n",
              " 'vote_count']"
            ]
          },
          "metadata": {
            "tags": []
          },
          "execution_count": 111
        }
      ]
    },
    {
      "cell_type": "code",
      "metadata": {
        "id": "IzsrTaslYv2q"
      },
      "source": [
        "meta['release_date'] = pd.to_datetime(meta['release_date'], errors='coerce')"
      ],
      "execution_count": null,
      "outputs": []
    },
    {
      "cell_type": "code",
      "metadata": {
        "id": "UBLyLxV0YzSo"
      },
      "source": [
        "meta['year'] = meta['release_date'].dt.year"
      ],
      "execution_count": null,
      "outputs": []
    },
    {
      "cell_type": "code",
      "metadata": {
        "id": "t3DwlWE8Y3A7",
        "colab": {
          "base_uri": "https://localhost:8080/"
        },
        "outputId": "23c0b221-2ea2-4831-fbd2-6fb01159c4c8"
      },
      "source": [
        "meta['year'].value_counts().sort_index()"
      ],
      "execution_count": null,
      "outputs": [
        {
          "output_type": "execute_result",
          "data": {
            "text/plain": [
              "1874.0       1\n",
              "1878.0       1\n",
              "1883.0       1\n",
              "1887.0       1\n",
              "1888.0       2\n",
              "          ... \n",
              "2015.0    1905\n",
              "2016.0    1604\n",
              "2017.0     532\n",
              "2018.0       5\n",
              "2020.0       1\n",
              "Name: year, Length: 135, dtype: int64"
            ]
          },
          "metadata": {
            "tags": []
          },
          "execution_count": 114
        }
      ]
    },
    {
      "cell_type": "code",
      "metadata": {
        "id": "N9CE1wFzY6a8"
      },
      "source": [
        "new_meta = meta.loc[meta.year == 2017,['genres','id','title','year']]"
      ],
      "execution_count": null,
      "outputs": []
    },
    {
      "cell_type": "code",
      "metadata": {
        "id": "zSqndPL1ZAQ4",
        "colab": {
          "base_uri": "https://localhost:8080/",
          "height": 419
        },
        "outputId": "1a13c147-a697-4b96-d25a-8e4af464f1be"
      },
      "source": [
        "new_meta"
      ],
      "execution_count": null,
      "outputs": [
        {
          "output_type": "execute_result",
          "data": {
            "text/html": [
              "<div>\n",
              "<style scoped>\n",
              "    .dataframe tbody tr th:only-of-type {\n",
              "        vertical-align: middle;\n",
              "    }\n",
              "\n",
              "    .dataframe tbody tr th {\n",
              "        vertical-align: top;\n",
              "    }\n",
              "\n",
              "    .dataframe thead th {\n",
              "        text-align: right;\n",
              "    }\n",
              "</style>\n",
              "<table border=\"1\" class=\"dataframe\">\n",
              "  <thead>\n",
              "    <tr style=\"text-align: right;\">\n",
              "      <th></th>\n",
              "      <th>genres</th>\n",
              "      <th>id</th>\n",
              "      <th>title</th>\n",
              "      <th>year</th>\n",
              "    </tr>\n",
              "  </thead>\n",
              "  <tbody>\n",
              "    <tr>\n",
              "      <th>26560</th>\n",
              "      <td>[{'id': 12, 'name': 'Adventure'}, {'id': 28, '...</td>\n",
              "      <td>166426</td>\n",
              "      <td>Pirates of the Caribbean: Dead Men Tell No Tales</td>\n",
              "      <td>2017.0</td>\n",
              "    </tr>\n",
              "    <tr>\n",
              "      <th>26561</th>\n",
              "      <td>[{'id': 28, 'name': 'Action'}, {'id': 12, 'nam...</td>\n",
              "      <td>141052</td>\n",
              "      <td>Justice League</td>\n",
              "      <td>2017.0</td>\n",
              "    </tr>\n",
              "    <tr>\n",
              "      <th>26565</th>\n",
              "      <td>[{'id': 28, 'name': 'Action'}, {'id': 12, 'nam...</td>\n",
              "      <td>284053</td>\n",
              "      <td>Thor: Ragnarok</td>\n",
              "      <td>2017.0</td>\n",
              "    </tr>\n",
              "    <tr>\n",
              "      <th>26566</th>\n",
              "      <td>[{'id': 28, 'name': 'Action'}, {'id': 12, 'nam...</td>\n",
              "      <td>283995</td>\n",
              "      <td>Guardians of the Galaxy Vol. 2</td>\n",
              "      <td>2017.0</td>\n",
              "    </tr>\n",
              "    <tr>\n",
              "      <th>30536</th>\n",
              "      <td>[{'id': 14, 'name': 'Fantasy'}, {'id': 28, 'na...</td>\n",
              "      <td>245842</td>\n",
              "      <td>The King's Daughter</td>\n",
              "      <td>2017.0</td>\n",
              "    </tr>\n",
              "    <tr>\n",
              "      <th>...</th>\n",
              "      <td>...</td>\n",
              "      <td>...</td>\n",
              "      <td>...</td>\n",
              "      <td>...</td>\n",
              "    </tr>\n",
              "    <tr>\n",
              "      <th>45398</th>\n",
              "      <td>[{'id': 10749, 'name': 'Romance'}, {'id': 35, ...</td>\n",
              "      <td>468707</td>\n",
              "      <td>Thick Lashes of Lauri Mäntyvaara</td>\n",
              "      <td>2017.0</td>\n",
              "    </tr>\n",
              "    <tr>\n",
              "      <th>45417</th>\n",
              "      <td>[{'id': 80, 'name': 'Crime'}, {'id': 35, 'name...</td>\n",
              "      <td>461297</td>\n",
              "      <td>Cop and a Half: New Recruit</td>\n",
              "      <td>2017.0</td>\n",
              "    </tr>\n",
              "    <tr>\n",
              "      <th>45437</th>\n",
              "      <td>[{'id': 10751, 'name': 'Family'}, {'id': 16, '...</td>\n",
              "      <td>455661</td>\n",
              "      <td>In a Heartbeat</td>\n",
              "      <td>2017.0</td>\n",
              "    </tr>\n",
              "    <tr>\n",
              "      <th>45453</th>\n",
              "      <td>[{'id': 80, 'name': 'Crime'}, {'id': 18, 'name...</td>\n",
              "      <td>404604</td>\n",
              "      <td>Mom</td>\n",
              "      <td>2017.0</td>\n",
              "    </tr>\n",
              "    <tr>\n",
              "      <th>45465</th>\n",
              "      <td>[]</td>\n",
              "      <td>461257</td>\n",
              "      <td>Queerama</td>\n",
              "      <td>2017.0</td>\n",
              "    </tr>\n",
              "  </tbody>\n",
              "</table>\n",
              "<p>532 rows × 4 columns</p>\n",
              "</div>"
            ],
            "text/plain": [
              "                                                  genres  ...    year\n",
              "26560  [{'id': 12, 'name': 'Adventure'}, {'id': 28, '...  ...  2017.0\n",
              "26561  [{'id': 28, 'name': 'Action'}, {'id': 12, 'nam...  ...  2017.0\n",
              "26565  [{'id': 28, 'name': 'Action'}, {'id': 12, 'nam...  ...  2017.0\n",
              "26566  [{'id': 28, 'name': 'Action'}, {'id': 12, 'nam...  ...  2017.0\n",
              "30536  [{'id': 14, 'name': 'Fantasy'}, {'id': 28, 'na...  ...  2017.0\n",
              "...                                                  ...  ...     ...\n",
              "45398  [{'id': 10749, 'name': 'Romance'}, {'id': 35, ...  ...  2017.0\n",
              "45417  [{'id': 80, 'name': 'Crime'}, {'id': 35, 'name...  ...  2017.0\n",
              "45437  [{'id': 10751, 'name': 'Family'}, {'id': 16, '...  ...  2017.0\n",
              "45453  [{'id': 80, 'name': 'Crime'}, {'id': 18, 'name...  ...  2017.0\n",
              "45465                                                 []  ...  2017.0\n",
              "\n",
              "[532 rows x 4 columns]"
            ]
          },
          "metadata": {
            "tags": []
          },
          "execution_count": 116
        }
      ]
    },
    {
      "cell_type": "code",
      "metadata": {
        "id": "R1dWu_0mZEV5"
      },
      "source": [
        "new_meta['id'] = new_meta['id'].astype(int)"
      ],
      "execution_count": null,
      "outputs": []
    },
    {
      "cell_type": "code",
      "metadata": {
        "id": "OOnTPsi9ZIH3"
      },
      "source": [
        "data = pd.merge(new_meta, credits, on='id')"
      ],
      "execution_count": null,
      "outputs": []
    },
    {
      "cell_type": "code",
      "metadata": {
        "id": "-OqDml8Ungoh"
      },
      "source": [
        "data = pd.merge(data, keywords, on='id')"
      ],
      "execution_count": null,
      "outputs": []
    },
    {
      "cell_type": "code",
      "metadata": {
        "id": "a9tQRu7LnzJw",
        "colab": {
          "base_uri": "https://localhost:8080/",
          "height": 589
        },
        "outputId": "56e923ae-954d-4f8f-fa87-64cbff21580b"
      },
      "source": [
        "data"
      ],
      "execution_count": null,
      "outputs": [
        {
          "output_type": "execute_result",
          "data": {
            "text/html": [
              "<div>\n",
              "<style scoped>\n",
              "    .dataframe tbody tr th:only-of-type {\n",
              "        vertical-align: middle;\n",
              "    }\n",
              "\n",
              "    .dataframe tbody tr th {\n",
              "        vertical-align: top;\n",
              "    }\n",
              "\n",
              "    .dataframe thead th {\n",
              "        text-align: right;\n",
              "    }\n",
              "</style>\n",
              "<table border=\"1\" class=\"dataframe\">\n",
              "  <thead>\n",
              "    <tr style=\"text-align: right;\">\n",
              "      <th></th>\n",
              "      <th>genres</th>\n",
              "      <th>id</th>\n",
              "      <th>title</th>\n",
              "      <th>year</th>\n",
              "      <th>cast</th>\n",
              "      <th>crew</th>\n",
              "      <th>keywords</th>\n",
              "    </tr>\n",
              "  </thead>\n",
              "  <tbody>\n",
              "    <tr>\n",
              "      <th>0</th>\n",
              "      <td>[{'id': 12, 'name': 'Adventure'}, {'id': 28, '...</td>\n",
              "      <td>166426</td>\n",
              "      <td>Pirates of the Caribbean: Dead Men Tell No Tales</td>\n",
              "      <td>2017.0</td>\n",
              "      <td>[{'cast_id': 1, 'character': 'Captain Jack Spa...</td>\n",
              "      <td>[{'credit_id': '52fe4c9cc3a36847f8236a65', 'de...</td>\n",
              "      <td>[{'id': 658, 'name': 'sea'}, {'id': 3799, 'nam...</td>\n",
              "    </tr>\n",
              "    <tr>\n",
              "      <th>1</th>\n",
              "      <td>[{'id': 28, 'name': 'Action'}, {'id': 12, 'nam...</td>\n",
              "      <td>141052</td>\n",
              "      <td>Justice League</td>\n",
              "      <td>2017.0</td>\n",
              "      <td>[{'cast_id': 2, 'character': 'Bruce Wayne / Ba...</td>\n",
              "      <td>[{'credit_id': '55ef66dbc3a3686f1700a52d', 'de...</td>\n",
              "      <td>[{'id': 849, 'name': 'dc comics'}, {'id': 9717...</td>\n",
              "    </tr>\n",
              "    <tr>\n",
              "      <th>2</th>\n",
              "      <td>[{'id': 28, 'name': 'Action'}, {'id': 12, 'nam...</td>\n",
              "      <td>284053</td>\n",
              "      <td>Thor: Ragnarok</td>\n",
              "      <td>2017.0</td>\n",
              "      <td>[{'cast_id': 0, 'character': 'Thor Odinson', '...</td>\n",
              "      <td>[{'credit_id': '56a93fa4c3a36872db001e7a', 'de...</td>\n",
              "      <td>[{'id': 8828, 'name': 'marvel comic'}, {'id': ...</td>\n",
              "    </tr>\n",
              "    <tr>\n",
              "      <th>3</th>\n",
              "      <td>[{'id': 28, 'name': 'Action'}, {'id': 12, 'nam...</td>\n",
              "      <td>283995</td>\n",
              "      <td>Guardians of the Galaxy Vol. 2</td>\n",
              "      <td>2017.0</td>\n",
              "      <td>[{'cast_id': 3, 'character': 'Peter Quill / St...</td>\n",
              "      <td>[{'credit_id': '59171547925141583c0315a6', 'de...</td>\n",
              "      <td>[{'id': 9663, 'name': 'sequel'}, {'id': 9715, ...</td>\n",
              "    </tr>\n",
              "    <tr>\n",
              "      <th>4</th>\n",
              "      <td>[{'id': 14, 'name': 'Fantasy'}, {'id': 28, 'na...</td>\n",
              "      <td>245842</td>\n",
              "      <td>The King's Daughter</td>\n",
              "      <td>2017.0</td>\n",
              "      <td>[{'cast_id': 0, 'character': 'King Louis XIV',...</td>\n",
              "      <td>[{'credit_id': '5431de49c3a36825d300007e', 'de...</td>\n",
              "      <td>[{'id': 4978, 'name': 'immortality'}, {'id': 5...</td>\n",
              "    </tr>\n",
              "    <tr>\n",
              "      <th>...</th>\n",
              "      <td>...</td>\n",
              "      <td>...</td>\n",
              "      <td>...</td>\n",
              "      <td>...</td>\n",
              "      <td>...</td>\n",
              "      <td>...</td>\n",
              "      <td>...</td>\n",
              "    </tr>\n",
              "    <tr>\n",
              "      <th>527</th>\n",
              "      <td>[{'id': 10749, 'name': 'Romance'}, {'id': 35, ...</td>\n",
              "      <td>468707</td>\n",
              "      <td>Thick Lashes of Lauri Mäntyvaara</td>\n",
              "      <td>2017.0</td>\n",
              "      <td>[{'cast_id': 0, 'character': 'Satu', 'credit_i...</td>\n",
              "      <td>[{'credit_id': '597e22f69251415d7801c74a', 'de...</td>\n",
              "      <td>[{'id': 2486, 'name': 'fantasy'}, {'id': 14751...</td>\n",
              "    </tr>\n",
              "    <tr>\n",
              "      <th>528</th>\n",
              "      <td>[{'id': 80, 'name': 'Crime'}, {'id': 35, 'name...</td>\n",
              "      <td>461297</td>\n",
              "      <td>Cop and a Half: New Recruit</td>\n",
              "      <td>2017.0</td>\n",
              "      <td>[{'cast_id': 0, 'character': 'Detective Simmon...</td>\n",
              "      <td>[{'credit_id': '593ba0c29251410593009be3', 'de...</td>\n",
              "      <td>[{'id': 9663, 'name': 'sequel'}, {'id': 156321...</td>\n",
              "    </tr>\n",
              "    <tr>\n",
              "      <th>529</th>\n",
              "      <td>[{'id': 10751, 'name': 'Family'}, {'id': 16, '...</td>\n",
              "      <td>455661</td>\n",
              "      <td>In a Heartbeat</td>\n",
              "      <td>2017.0</td>\n",
              "      <td>[]</td>\n",
              "      <td>[{'credit_id': '5981a15c92514151e0011b51', 'de...</td>\n",
              "      <td>[{'id': 9673, 'name': 'love'}, {'id': 13130, '...</td>\n",
              "    </tr>\n",
              "    <tr>\n",
              "      <th>530</th>\n",
              "      <td>[{'id': 80, 'name': 'Crime'}, {'id': 18, 'name...</td>\n",
              "      <td>404604</td>\n",
              "      <td>Mom</td>\n",
              "      <td>2017.0</td>\n",
              "      <td>[{'cast_id': 1, 'character': 'Devki Sabarwal',...</td>\n",
              "      <td>[{'credit_id': '58ee55bbc3a3683df500bd0f', 'de...</td>\n",
              "      <td>[{'id': 155794, 'name': 'physical abuse'}, {'i...</td>\n",
              "    </tr>\n",
              "    <tr>\n",
              "      <th>531</th>\n",
              "      <td>[]</td>\n",
              "      <td>461257</td>\n",
              "      <td>Queerama</td>\n",
              "      <td>2017.0</td>\n",
              "      <td>[]</td>\n",
              "      <td>[{'credit_id': '593e676c92514105b702e68e', 'de...</td>\n",
              "      <td>[]</td>\n",
              "    </tr>\n",
              "  </tbody>\n",
              "</table>\n",
              "<p>532 rows × 7 columns</p>\n",
              "</div>"
            ],
            "text/plain": [
              "                                                genres  ...                                           keywords\n",
              "0    [{'id': 12, 'name': 'Adventure'}, {'id': 28, '...  ...  [{'id': 658, 'name': 'sea'}, {'id': 3799, 'nam...\n",
              "1    [{'id': 28, 'name': 'Action'}, {'id': 12, 'nam...  ...  [{'id': 849, 'name': 'dc comics'}, {'id': 9717...\n",
              "2    [{'id': 28, 'name': 'Action'}, {'id': 12, 'nam...  ...  [{'id': 8828, 'name': 'marvel comic'}, {'id': ...\n",
              "3    [{'id': 28, 'name': 'Action'}, {'id': 12, 'nam...  ...  [{'id': 9663, 'name': 'sequel'}, {'id': 9715, ...\n",
              "4    [{'id': 14, 'name': 'Fantasy'}, {'id': 28, 'na...  ...  [{'id': 4978, 'name': 'immortality'}, {'id': 5...\n",
              "..                                                 ...  ...                                                ...\n",
              "527  [{'id': 10749, 'name': 'Romance'}, {'id': 35, ...  ...  [{'id': 2486, 'name': 'fantasy'}, {'id': 14751...\n",
              "528  [{'id': 80, 'name': 'Crime'}, {'id': 35, 'name...  ...  [{'id': 9663, 'name': 'sequel'}, {'id': 156321...\n",
              "529  [{'id': 10751, 'name': 'Family'}, {'id': 16, '...  ...  [{'id': 9673, 'name': 'love'}, {'id': 13130, '...\n",
              "530  [{'id': 80, 'name': 'Crime'}, {'id': 18, 'name...  ...  [{'id': 155794, 'name': 'physical abuse'}, {'i...\n",
              "531                                                 []  ...                                                 []\n",
              "\n",
              "[532 rows x 7 columns]"
            ]
          },
          "metadata": {
            "tags": []
          },
          "execution_count": 120
        }
      ]
    },
    {
      "cell_type": "code",
      "metadata": {
        "id": "LaEpDqBVZhOd"
      },
      "source": [
        "# evaluates an expression node or a string containing a Python literal or container display\n",
        "import ast\n",
        "data['genres'] = data['genres'].map(lambda x: ast.literal_eval(x))\n",
        "data['cast'] = data['cast'].map(lambda x: ast.literal_eval(x))\n",
        "data['crew'] = data['crew'].map(lambda x: ast.literal_eval(x))\n",
        "data['keywords'] = data['keywords'].map(lambda x: ast.literal_eval(x))"
      ],
      "execution_count": null,
      "outputs": []
    },
    {
      "cell_type": "code",
      "metadata": {
        "id": "HpuSPDDqZq8-"
      },
      "source": [
        "def make_genresList(x):\n",
        "    gen = []\n",
        "    st = \" \"\n",
        "    for i in x:\n",
        "        if i.get('name') == 'Science Fiction':\n",
        "            scifi = 'Sci-Fi'\n",
        "            gen.append(scifi)\n",
        "        else:\n",
        "            gen.append(i.get('name'))\n",
        "    if gen == []:\n",
        "        return np.NaN\n",
        "    else:\n",
        "        return (st.join(gen))"
      ],
      "execution_count": null,
      "outputs": []
    },
    {
      "cell_type": "code",
      "metadata": {
        "id": "3kIc9xfRoxuy"
      },
      "source": [
        "def make_keywordsList(x):\n",
        "    keyw = []\n",
        "    st = \" \"\n",
        "    for i in x:\n",
        "        keyw.append(i.get('name'))\n",
        "    if keyw == []:\n",
        "        return np.NaN\n",
        "    else:\n",
        "        return (st.join(keyw))"
      ],
      "execution_count": null,
      "outputs": []
    },
    {
      "cell_type": "code",
      "metadata": {
        "id": "zADXH1B-Zuew"
      },
      "source": [
        "data['genres_list'] = data['genres'].map(lambda x: make_genresList(x))\n",
        "data['keywords'] = data['keywords'].map(lambda x: make_keywordsList(x))"
      ],
      "execution_count": null,
      "outputs": []
    },
    {
      "cell_type": "code",
      "metadata": {
        "id": "nt6Gx1rKZzHr",
        "colab": {
          "base_uri": "https://localhost:8080/"
        },
        "outputId": "f43a54ef-b2d4-4eb5-bcd8-6435a6eacea0"
      },
      "source": [
        "data['genres_list']"
      ],
      "execution_count": null,
      "outputs": [
        {
          "output_type": "execute_result",
          "data": {
            "text/plain": [
              "0      Adventure Action Fantasy Comedy\n",
              "1      Action Adventure Fantasy Sci-Fi\n",
              "2      Action Adventure Fantasy Sci-Fi\n",
              "3       Action Adventure Comedy Sci-Fi\n",
              "4             Fantasy Action Adventure\n",
              "                    ...               \n",
              "527                     Romance Comedy\n",
              "528         Crime Comedy Action Family\n",
              "529    Family Animation Romance Comedy\n",
              "530               Crime Drama Thriller\n",
              "531                                NaN\n",
              "Name: genres_list, Length: 532, dtype: object"
            ]
          },
          "metadata": {
            "tags": []
          },
          "execution_count": 125
        }
      ]
    },
    {
      "cell_type": "code",
      "metadata": {
        "id": "m2ttp6yqZ4ks"
      },
      "source": [
        "def get_actor1(x):\n",
        "    casts = []\n",
        "    for i in x:\n",
        "        casts.append(i.get('name'))\n",
        "    if casts == []:\n",
        "        return np.NaN\n",
        "    else:\n",
        "        return (casts[0])\n"
      ],
      "execution_count": null,
      "outputs": []
    },
    {
      "cell_type": "code",
      "metadata": {
        "id": "Cd6k83WwZ8pb"
      },
      "source": [
        "data['actor_1_name'] = data['cast'].map(lambda x: get_actor1(x))"
      ],
      "execution_count": null,
      "outputs": []
    },
    {
      "cell_type": "code",
      "metadata": {
        "id": "AQkftKUEaAwW"
      },
      "source": [
        "def get_actor2(x):\n",
        "    casts = []\n",
        "    for i in x:\n",
        "        casts.append(i.get('name'))\n",
        "    if casts == [] or len(casts)<=1:\n",
        "        return np.NaN\n",
        "    else:\n",
        "        return (casts[1])"
      ],
      "execution_count": null,
      "outputs": []
    },
    {
      "cell_type": "code",
      "metadata": {
        "id": "WEuNxDrLaEPQ"
      },
      "source": [
        "data['actor_2_name'] = data['cast'].map(lambda x: get_actor2(x))"
      ],
      "execution_count": null,
      "outputs": []
    },
    {
      "cell_type": "code",
      "metadata": {
        "id": "m4fUOP25aWZN",
        "colab": {
          "base_uri": "https://localhost:8080/"
        },
        "outputId": "0ba07ea3-7968-41e1-dfa4-d1b94745bd69"
      },
      "source": [
        "data['actor_2_name']"
      ],
      "execution_count": null,
      "outputs": [
        {
          "output_type": "execute_result",
          "data": {
            "text/plain": [
              "0       Javier Bardem\n",
              "1        Henry Cavill\n",
              "2      Tom Hiddleston\n",
              "3         Zoe Saldana\n",
              "4        William Hurt\n",
              "            ...      \n",
              "527     Rosa Honkonen\n",
              "528     Wallace Shawn\n",
              "529               NaN\n",
              "530         Sajal Ali\n",
              "531               NaN\n",
              "Name: actor_2_name, Length: 532, dtype: object"
            ]
          },
          "metadata": {
            "tags": []
          },
          "execution_count": 130
        }
      ]
    },
    {
      "cell_type": "code",
      "metadata": {
        "id": "xOY8yURXaYgZ"
      },
      "source": [
        "def get_actor3(x):\n",
        "    casts = []\n",
        "    for i in x:\n",
        "        casts.append(i.get('name'))\n",
        "    if casts == [] or len(casts)<=2:\n",
        "        return np.NaN\n",
        "    else:\n",
        "        return (casts[2])"
      ],
      "execution_count": null,
      "outputs": []
    },
    {
      "cell_type": "code",
      "metadata": {
        "id": "7wkfTwIeacEZ"
      },
      "source": [
        "data['actor_3_name'] = data['cast'].map(lambda x: get_actor3(x))"
      ],
      "execution_count": null,
      "outputs": []
    },
    {
      "cell_type": "code",
      "metadata": {
        "id": "cE9Ig0ona-Ft",
        "colab": {
          "base_uri": "https://localhost:8080/"
        },
        "outputId": "6050edf0-6200-4092-ad9a-64e402c8a20d"
      },
      "source": [
        "data['actor_3_name']"
      ],
      "execution_count": null,
      "outputs": [
        {
          "output_type": "execute_result",
          "data": {
            "text/plain": [
              "0        Geoffrey Rush\n",
              "1            Gal Gadot\n",
              "2       Cate Blanchett\n",
              "3        Dave Bautista\n",
              "4      Benjamin Walker\n",
              "            ...       \n",
              "527     Tiitus Rantala\n",
              "528        Gina Holden\n",
              "529                NaN\n",
              "530     Akshaye Khanna\n",
              "531                NaN\n",
              "Name: actor_3_name, Length: 532, dtype: object"
            ]
          },
          "metadata": {
            "tags": []
          },
          "execution_count": 133
        }
      ]
    },
    {
      "cell_type": "code",
      "metadata": {
        "id": "pzq-J377bCF2"
      },
      "source": [
        "def get_directors(x):\n",
        "    dt = []\n",
        "    st = \" \"\n",
        "    for i in x:\n",
        "        if i.get('job') == 'Director':\n",
        "            dt.append(i.get('name'))\n",
        "    if dt == []:\n",
        "        return np.NaN\n",
        "    else:\n",
        "        return (st.join(dt))"
      ],
      "execution_count": null,
      "outputs": []
    },
    {
      "cell_type": "code",
      "metadata": {
        "id": "fXOJs2h2bFsm"
      },
      "source": [
        "data['director_name'] = data['crew'].map(lambda x: get_directors(x))\n"
      ],
      "execution_count": null,
      "outputs": []
    },
    {
      "cell_type": "code",
      "metadata": {
        "id": "kexGC3rUbJpL",
        "colab": {
          "base_uri": "https://localhost:8080/"
        },
        "outputId": "ee7bf635-4208-4c33-ca95-e0ef7302c935"
      },
      "source": [
        "data['director_name']"
      ],
      "execution_count": null,
      "outputs": [
        {
          "output_type": "execute_result",
          "data": {
            "text/plain": [
              "0      Joachim Rønning Espen Sandberg\n",
              "1                         Zack Snyder\n",
              "2                       Taika Waititi\n",
              "3                          James Gunn\n",
              "4                       Sean McNamara\n",
              "                    ...              \n",
              "527                  Hannaleena Hauru\n",
              "528             Jonathan A. Rosenbaum\n",
              "529          Beth David Esteban Bravo\n",
              "530                      Ravi Udyawar\n",
              "531                     Daisy Asquith\n",
              "Name: director_name, Length: 532, dtype: object"
            ]
          },
          "metadata": {
            "tags": []
          },
          "execution_count": 136
        }
      ]
    },
    {
      "cell_type": "code",
      "metadata": {
        "id": "u5fGKMq2bL8m"
      },
      "source": [
        "movie = data.loc[:,['director_name','actor_1_name','actor_2_name','actor_3_name','genres_list','title','keywords']]\n"
      ],
      "execution_count": null,
      "outputs": []
    },
    {
      "cell_type": "code",
      "metadata": {
        "id": "DwrHXwDvbOkt",
        "colab": {
          "base_uri": "https://localhost:8080/",
          "height": 555
        },
        "outputId": "d6b08a25-d8ba-4993-f481-c8389c7b6676"
      },
      "source": [
        "movie"
      ],
      "execution_count": null,
      "outputs": [
        {
          "output_type": "execute_result",
          "data": {
            "text/html": [
              "<div>\n",
              "<style scoped>\n",
              "    .dataframe tbody tr th:only-of-type {\n",
              "        vertical-align: middle;\n",
              "    }\n",
              "\n",
              "    .dataframe tbody tr th {\n",
              "        vertical-align: top;\n",
              "    }\n",
              "\n",
              "    .dataframe thead th {\n",
              "        text-align: right;\n",
              "    }\n",
              "</style>\n",
              "<table border=\"1\" class=\"dataframe\">\n",
              "  <thead>\n",
              "    <tr style=\"text-align: right;\">\n",
              "      <th></th>\n",
              "      <th>director_name</th>\n",
              "      <th>actor_1_name</th>\n",
              "      <th>actor_2_name</th>\n",
              "      <th>actor_3_name</th>\n",
              "      <th>genres_list</th>\n",
              "      <th>title</th>\n",
              "      <th>keywords</th>\n",
              "    </tr>\n",
              "  </thead>\n",
              "  <tbody>\n",
              "    <tr>\n",
              "      <th>0</th>\n",
              "      <td>Joachim Rønning Espen Sandberg</td>\n",
              "      <td>Johnny Depp</td>\n",
              "      <td>Javier Bardem</td>\n",
              "      <td>Geoffrey Rush</td>\n",
              "      <td>Adventure Action Fantasy Comedy</td>\n",
              "      <td>Pirates of the Caribbean: Dead Men Tell No Tales</td>\n",
              "      <td>sea ship sequel artifact treasure map pirate p...</td>\n",
              "    </tr>\n",
              "    <tr>\n",
              "      <th>1</th>\n",
              "      <td>Zack Snyder</td>\n",
              "      <td>Ben Affleck</td>\n",
              "      <td>Henry Cavill</td>\n",
              "      <td>Gal Gadot</td>\n",
              "      <td>Action Adventure Fantasy Sci-Fi</td>\n",
              "      <td>Justice League</td>\n",
              "      <td>dc comics based on comic super powers dc exten...</td>\n",
              "    </tr>\n",
              "    <tr>\n",
              "      <th>2</th>\n",
              "      <td>Taika Waititi</td>\n",
              "      <td>Chris Hemsworth</td>\n",
              "      <td>Tom Hiddleston</td>\n",
              "      <td>Cate Blanchett</td>\n",
              "      <td>Action Adventure Fantasy Sci-Fi</td>\n",
              "      <td>Thor: Ragnarok</td>\n",
              "      <td>marvel comic sequel superhero based on comic f...</td>\n",
              "    </tr>\n",
              "    <tr>\n",
              "      <th>3</th>\n",
              "      <td>James Gunn</td>\n",
              "      <td>Chris Pratt</td>\n",
              "      <td>Zoe Saldana</td>\n",
              "      <td>Dave Bautista</td>\n",
              "      <td>Action Adventure Comedy Sci-Fi</td>\n",
              "      <td>Guardians of the Galaxy Vol. 2</td>\n",
              "      <td>sequel superhero based on comic misfit space o...</td>\n",
              "    </tr>\n",
              "    <tr>\n",
              "      <th>4</th>\n",
              "      <td>Sean McNamara</td>\n",
              "      <td>Pierce Brosnan</td>\n",
              "      <td>William Hurt</td>\n",
              "      <td>Benjamin Walker</td>\n",
              "      <td>Fantasy Action Adventure</td>\n",
              "      <td>The King's Daughter</td>\n",
              "      <td>immortality mermaid period drama illegitimate ...</td>\n",
              "    </tr>\n",
              "    <tr>\n",
              "      <th>...</th>\n",
              "      <td>...</td>\n",
              "      <td>...</td>\n",
              "      <td>...</td>\n",
              "      <td>...</td>\n",
              "      <td>...</td>\n",
              "      <td>...</td>\n",
              "      <td>...</td>\n",
              "    </tr>\n",
              "    <tr>\n",
              "      <th>527</th>\n",
              "      <td>Hannaleena Hauru</td>\n",
              "      <td>Inka Haapamäki</td>\n",
              "      <td>Rosa Honkonen</td>\n",
              "      <td>Tiitus Rantala</td>\n",
              "      <td>Romance Comedy</td>\n",
              "      <td>Thick Lashes of Lauri Mäntyvaara</td>\n",
              "      <td>fantasy youth weird</td>\n",
              "    </tr>\n",
              "    <tr>\n",
              "      <th>528</th>\n",
              "      <td>Jonathan A. Rosenbaum</td>\n",
              "      <td>Lou Diamond Phillips</td>\n",
              "      <td>Wallace Shawn</td>\n",
              "      <td>Gina Holden</td>\n",
              "      <td>Crime Comedy Action Family</td>\n",
              "      <td>Cop and a Half: New Recruit</td>\n",
              "      <td>sequel tv movie buddy cop</td>\n",
              "    </tr>\n",
              "    <tr>\n",
              "      <th>529</th>\n",
              "      <td>Beth David Esteban Bravo</td>\n",
              "      <td>NaN</td>\n",
              "      <td>NaN</td>\n",
              "      <td>NaN</td>\n",
              "      <td>Family Animation Romance Comedy</td>\n",
              "      <td>In a Heartbeat</td>\n",
              "      <td>love teenager lgbt short</td>\n",
              "    </tr>\n",
              "    <tr>\n",
              "      <th>530</th>\n",
              "      <td>Ravi Udyawar</td>\n",
              "      <td>Sridevi Kapoor</td>\n",
              "      <td>Sajal Ali</td>\n",
              "      <td>Akshaye Khanna</td>\n",
              "      <td>Crime Drama Thriller</td>\n",
              "      <td>Mom</td>\n",
              "      <td>physical abuse sexual assault</td>\n",
              "    </tr>\n",
              "    <tr>\n",
              "      <th>531</th>\n",
              "      <td>Daisy Asquith</td>\n",
              "      <td>NaN</td>\n",
              "      <td>NaN</td>\n",
              "      <td>NaN</td>\n",
              "      <td>NaN</td>\n",
              "      <td>Queerama</td>\n",
              "      <td>NaN</td>\n",
              "    </tr>\n",
              "  </tbody>\n",
              "</table>\n",
              "<p>532 rows × 7 columns</p>\n",
              "</div>"
            ],
            "text/plain": [
              "                      director_name  ...                                           keywords\n",
              "0    Joachim Rønning Espen Sandberg  ...  sea ship sequel artifact treasure map pirate p...\n",
              "1                       Zack Snyder  ...  dc comics based on comic super powers dc exten...\n",
              "2                     Taika Waititi  ...  marvel comic sequel superhero based on comic f...\n",
              "3                        James Gunn  ...  sequel superhero based on comic misfit space o...\n",
              "4                     Sean McNamara  ...  immortality mermaid period drama illegitimate ...\n",
              "..                              ...  ...                                                ...\n",
              "527                Hannaleena Hauru  ...                                fantasy youth weird\n",
              "528           Jonathan A. Rosenbaum  ...                          sequel tv movie buddy cop\n",
              "529        Beth David Esteban Bravo  ...                           love teenager lgbt short\n",
              "530                    Ravi Udyawar  ...                      physical abuse sexual assault\n",
              "531                   Daisy Asquith  ...                                                NaN\n",
              "\n",
              "[532 rows x 7 columns]"
            ]
          },
          "metadata": {
            "tags": []
          },
          "execution_count": 138
        }
      ]
    },
    {
      "cell_type": "code",
      "metadata": {
        "id": "2yZ7H2aXbRJi",
        "colab": {
          "base_uri": "https://localhost:8080/"
        },
        "outputId": "35ebfe8f-3107-4011-83fc-93c50882a1f1"
      },
      "source": [
        "movie.isna().sum()"
      ],
      "execution_count": null,
      "outputs": [
        {
          "output_type": "execute_result",
          "data": {
            "text/plain": [
              "director_name      4\n",
              "actor_1_name      22\n",
              "actor_2_name      55\n",
              "actor_3_name      70\n",
              "genres_list        7\n",
              "title              0\n",
              "keywords         133\n",
              "dtype: int64"
            ]
          },
          "metadata": {
            "tags": []
          },
          "execution_count": 139
        }
      ]
    },
    {
      "cell_type": "code",
      "metadata": {
        "id": "ShjbAPfMbUw4"
      },
      "source": [
        "movie = movie.dropna(how='any')\n"
      ],
      "execution_count": null,
      "outputs": []
    },
    {
      "cell_type": "code",
      "metadata": {
        "id": "pl1-r9VefOxP",
        "colab": {
          "base_uri": "https://localhost:8080/"
        },
        "outputId": "6cfb7c41-e082-4bae-fcee-339354b51085"
      },
      "source": [
        "movie.isna().sum()"
      ],
      "execution_count": null,
      "outputs": [
        {
          "output_type": "execute_result",
          "data": {
            "text/plain": [
              "director_name    0\n",
              "actor_1_name     0\n",
              "actor_2_name     0\n",
              "actor_3_name     0\n",
              "genres_list      0\n",
              "title            0\n",
              "keywords         0\n",
              "dtype: int64"
            ]
          },
          "metadata": {
            "tags": []
          },
          "execution_count": 141
        }
      ]
    },
    {
      "cell_type": "code",
      "metadata": {
        "id": "yrTWWgzebZwR"
      },
      "source": [
        "movie = movie.rename(columns={'genres_list':'genres'})\n",
        "movie = movie.rename(columns={'title':'movie_title'})"
      ],
      "execution_count": null,
      "outputs": []
    },
    {
      "cell_type": "code",
      "metadata": {
        "id": "OPm_1SvLbhk9"
      },
      "source": [
        "movie['movie_title'] = movie['movie_title'].str.lower()"
      ],
      "execution_count": null,
      "outputs": []
    },
    {
      "cell_type": "code",
      "metadata": {
        "id": "JxHoYyt7bkU5"
      },
      "source": [
        "movie['comb'] = movie['actor_1_name'] + ' ' + movie['actor_2_name'] + ' '+ movie['actor_3_name'] + ' '+ movie['director_name'] +' ' + movie['genres'] + ' ' + movie['keywords']\n"
      ],
      "execution_count": null,
      "outputs": []
    },
    {
      "cell_type": "code",
      "metadata": {
        "id": "fOsAJFfybth_",
        "colab": {
          "base_uri": "https://localhost:8080/"
        },
        "outputId": "36d7fcff-239f-4a01-a18c-9ad1c9cf7fbe"
      },
      "source": [
        "movie.keywords"
      ],
      "execution_count": null,
      "outputs": [
        {
          "output_type": "execute_result",
          "data": {
            "text/plain": [
              "0      sea ship sequel artifact treasure map pirate p...\n",
              "1      dc comics based on comic super powers dc exten...\n",
              "2      marvel comic sequel superhero based on comic f...\n",
              "3      sequel superhero based on comic misfit space o...\n",
              "4      immortality mermaid period drama illegitimate ...\n",
              "                             ...                        \n",
              "524                                      bad luck spirit\n",
              "526                                                  emt\n",
              "527                                  fantasy youth weird\n",
              "528                            sequel tv movie buddy cop\n",
              "530                        physical abuse sexual assault\n",
              "Name: keywords, Length: 350, dtype: object"
            ]
          },
          "metadata": {
            "tags": []
          },
          "execution_count": 145
        }
      ]
    },
    {
      "cell_type": "code",
      "metadata": {
        "id": "y2Kn2WdobyHN"
      },
      "source": [
        "old = pd.read_csv('/content/drive/MyDrive/deviants_pg5/complted data/preprocessed_data/data.csv')"
      ],
      "execution_count": null,
      "outputs": []
    },
    {
      "cell_type": "code",
      "metadata": {
        "id": "Jn6Sq17tcBdO",
        "colab": {
          "base_uri": "https://localhost:8080/",
          "height": 419
        },
        "outputId": "5eeefaa2-b737-4f18-a5ba-94a46ce4b648"
      },
      "source": [
        "old"
      ],
      "execution_count": null,
      "outputs": [
        {
          "output_type": "execute_result",
          "data": {
            "text/html": [
              "<div>\n",
              "<style scoped>\n",
              "    .dataframe tbody tr th:only-of-type {\n",
              "        vertical-align: middle;\n",
              "    }\n",
              "\n",
              "    .dataframe tbody tr th {\n",
              "        vertical-align: top;\n",
              "    }\n",
              "\n",
              "    .dataframe thead th {\n",
              "        text-align: right;\n",
              "    }\n",
              "</style>\n",
              "<table border=\"1\" class=\"dataframe\">\n",
              "  <thead>\n",
              "    <tr style=\"text-align: right;\">\n",
              "      <th></th>\n",
              "      <th>director_name</th>\n",
              "      <th>actor_1_name</th>\n",
              "      <th>actor_2_name</th>\n",
              "      <th>actor_3_name</th>\n",
              "      <th>genres</th>\n",
              "      <th>movie_title</th>\n",
              "      <th>keywords</th>\n",
              "    </tr>\n",
              "  </thead>\n",
              "  <tbody>\n",
              "    <tr>\n",
              "      <th>0</th>\n",
              "      <td>James Cameron</td>\n",
              "      <td>CCH Pounder</td>\n",
              "      <td>Joel David Moore</td>\n",
              "      <td>Wes Studi</td>\n",
              "      <td>Action Adventure Fantasy Sci-Fi</td>\n",
              "      <td>avatar</td>\n",
              "      <td>avatar future marine native paraplegic</td>\n",
              "    </tr>\n",
              "    <tr>\n",
              "      <th>1</th>\n",
              "      <td>Gore Verbinski</td>\n",
              "      <td>Johnny Depp</td>\n",
              "      <td>Orlando Bloom</td>\n",
              "      <td>Jack Davenport</td>\n",
              "      <td>Action Adventure Fantasy</td>\n",
              "      <td>pirates of the caribbean: at world's end</td>\n",
              "      <td>goddess marriage ceremony marriage proposal pi...</td>\n",
              "    </tr>\n",
              "    <tr>\n",
              "      <th>2</th>\n",
              "      <td>Sam Mendes</td>\n",
              "      <td>Christoph Waltz</td>\n",
              "      <td>Rory Kinnear</td>\n",
              "      <td>Stephanie Sigman</td>\n",
              "      <td>Action Adventure Thriller</td>\n",
              "      <td>spectre</td>\n",
              "      <td>bomb espionage sequel spy terrorist</td>\n",
              "    </tr>\n",
              "    <tr>\n",
              "      <th>3</th>\n",
              "      <td>Christopher Nolan</td>\n",
              "      <td>Tom Hardy</td>\n",
              "      <td>Christian Bale</td>\n",
              "      <td>Joseph Gordon-Levitt</td>\n",
              "      <td>Action Thriller</td>\n",
              "      <td>the dark knight rises</td>\n",
              "      <td>deception imprisonment lawlessness police offi...</td>\n",
              "    </tr>\n",
              "    <tr>\n",
              "      <th>4</th>\n",
              "      <td>Andrew Stanton</td>\n",
              "      <td>Daryl Sabara</td>\n",
              "      <td>Samantha Morton</td>\n",
              "      <td>Polly Walker</td>\n",
              "      <td>Action Adventure Sci-Fi</td>\n",
              "      <td>john carter</td>\n",
              "      <td>alien american civil war male nipple mars prin...</td>\n",
              "    </tr>\n",
              "    <tr>\n",
              "      <th>...</th>\n",
              "      <td>...</td>\n",
              "      <td>...</td>\n",
              "      <td>...</td>\n",
              "      <td>...</td>\n",
              "      <td>...</td>\n",
              "      <td>...</td>\n",
              "      <td>...</td>\n",
              "    </tr>\n",
              "    <tr>\n",
              "      <th>4776</th>\n",
              "      <td>Robert Rodriguez</td>\n",
              "      <td>Carlos Gallardo</td>\n",
              "      <td>Peter Marquardt</td>\n",
              "      <td>Consuelo Gómez</td>\n",
              "      <td>Action Crime Drama Romance Thriller</td>\n",
              "      <td>el mariachi</td>\n",
              "      <td>assassin death guitar gun mariachi</td>\n",
              "    </tr>\n",
              "    <tr>\n",
              "      <th>4777</th>\n",
              "      <td>Anthony Vallone</td>\n",
              "      <td>Richard Jewell</td>\n",
              "      <td>John Considine</td>\n",
              "      <td>Sara Stepnicka</td>\n",
              "      <td>Crime Drama</td>\n",
              "      <td>the mongol king</td>\n",
              "      <td>jewell mongol nostradamus stepnicka vallone</td>\n",
              "    </tr>\n",
              "    <tr>\n",
              "      <th>4778</th>\n",
              "      <td>Edward Burns</td>\n",
              "      <td>Kerry Bishé</td>\n",
              "      <td>Caitlin FitzGerald</td>\n",
              "      <td>Daniella Pineda</td>\n",
              "      <td>Comedy Drama</td>\n",
              "      <td>newlyweds</td>\n",
              "      <td>written and directed by cast member</td>\n",
              "    </tr>\n",
              "    <tr>\n",
              "      <th>4779</th>\n",
              "      <td>Scott Smith</td>\n",
              "      <td>Eric Mabius</td>\n",
              "      <td>Daphne Zuniga</td>\n",
              "      <td>Crystal Lowe</td>\n",
              "      <td>Comedy Drama</td>\n",
              "      <td>signed sealed delivered</td>\n",
              "      <td>fraud postal worker prison theft trial</td>\n",
              "    </tr>\n",
              "    <tr>\n",
              "      <th>4780</th>\n",
              "      <td>Jon Gunn</td>\n",
              "      <td>John August</td>\n",
              "      <td>Brian Herzlinger</td>\n",
              "      <td>Jon Gunn</td>\n",
              "      <td>Documentary</td>\n",
              "      <td>my date with drew</td>\n",
              "      <td>actress name in title crush date four word tit...</td>\n",
              "    </tr>\n",
              "  </tbody>\n",
              "</table>\n",
              "<p>4781 rows × 7 columns</p>\n",
              "</div>"
            ],
            "text/plain": [
              "          director_name  ...                                           keywords\n",
              "0         James Cameron  ...             avatar future marine native paraplegic\n",
              "1        Gore Verbinski  ...  goddess marriage ceremony marriage proposal pi...\n",
              "2            Sam Mendes  ...                bomb espionage sequel spy terrorist\n",
              "3     Christopher Nolan  ...  deception imprisonment lawlessness police offi...\n",
              "4        Andrew Stanton  ...  alien american civil war male nipple mars prin...\n",
              "...                 ...  ...                                                ...\n",
              "4776   Robert Rodriguez  ...                 assassin death guitar gun mariachi\n",
              "4777    Anthony Vallone  ...        jewell mongol nostradamus stepnicka vallone\n",
              "4778       Edward Burns  ...                written and directed by cast member\n",
              "4779        Scott Smith  ...             fraud postal worker prison theft trial\n",
              "4780           Jon Gunn  ...  actress name in title crush date four word tit...\n",
              "\n",
              "[4781 rows x 7 columns]"
            ]
          },
          "metadata": {
            "tags": []
          },
          "execution_count": 147
        }
      ]
    },
    {
      "cell_type": "code",
      "metadata": {
        "id": "_-6U8j6OcC_E"
      },
      "source": [
        "old['comb'] = old['actor_1_name'] + ' ' + old['actor_2_name'] + ' '+ old['actor_3_name'] + ' '+ old['director_name'] +' ' + old['genres'] + ' ' + old['keywords']"
      ],
      "execution_count": null,
      "outputs": []
    },
    {
      "cell_type": "code",
      "metadata": {
        "id": "xo_cmoNGcF6J",
        "colab": {
          "base_uri": "https://localhost:8080/",
          "height": 35
        },
        "outputId": "50b6bc3b-d75e-40f9-cca9-77c0d137cda3"
      },
      "source": [
        "old.iloc[0]['comb']"
      ],
      "execution_count": null,
      "outputs": [
        {
          "output_type": "execute_result",
          "data": {
            "application/vnd.google.colaboratory.intrinsic+json": {
              "type": "string"
            },
            "text/plain": [
              "'CCH Pounder Joel David Moore Wes Studi James Cameron Action Adventure Fantasy Sci-Fi avatar future marine native paraplegic'"
            ]
          },
          "metadata": {
            "tags": []
          },
          "execution_count": 149
        }
      ]
    },
    {
      "cell_type": "code",
      "metadata": {
        "id": "fMGJOdKecMW7"
      },
      "source": [
        "new = old.append(movie)"
      ],
      "execution_count": null,
      "outputs": []
    },
    {
      "cell_type": "code",
      "metadata": {
        "id": "Mtuk9_I7cSAb",
        "colab": {
          "base_uri": "https://localhost:8080/",
          "height": 589
        },
        "outputId": "f72cbc09-8b7c-4be5-cdca-e1a429559441"
      },
      "source": [
        "new"
      ],
      "execution_count": null,
      "outputs": [
        {
          "output_type": "execute_result",
          "data": {
            "text/html": [
              "<div>\n",
              "<style scoped>\n",
              "    .dataframe tbody tr th:only-of-type {\n",
              "        vertical-align: middle;\n",
              "    }\n",
              "\n",
              "    .dataframe tbody tr th {\n",
              "        vertical-align: top;\n",
              "    }\n",
              "\n",
              "    .dataframe thead th {\n",
              "        text-align: right;\n",
              "    }\n",
              "</style>\n",
              "<table border=\"1\" class=\"dataframe\">\n",
              "  <thead>\n",
              "    <tr style=\"text-align: right;\">\n",
              "      <th></th>\n",
              "      <th>director_name</th>\n",
              "      <th>actor_1_name</th>\n",
              "      <th>actor_2_name</th>\n",
              "      <th>actor_3_name</th>\n",
              "      <th>genres</th>\n",
              "      <th>movie_title</th>\n",
              "      <th>keywords</th>\n",
              "      <th>comb</th>\n",
              "    </tr>\n",
              "  </thead>\n",
              "  <tbody>\n",
              "    <tr>\n",
              "      <th>0</th>\n",
              "      <td>James Cameron</td>\n",
              "      <td>CCH Pounder</td>\n",
              "      <td>Joel David Moore</td>\n",
              "      <td>Wes Studi</td>\n",
              "      <td>Action Adventure Fantasy Sci-Fi</td>\n",
              "      <td>avatar</td>\n",
              "      <td>avatar future marine native paraplegic</td>\n",
              "      <td>CCH Pounder Joel David Moore Wes Studi James C...</td>\n",
              "    </tr>\n",
              "    <tr>\n",
              "      <th>1</th>\n",
              "      <td>Gore Verbinski</td>\n",
              "      <td>Johnny Depp</td>\n",
              "      <td>Orlando Bloom</td>\n",
              "      <td>Jack Davenport</td>\n",
              "      <td>Action Adventure Fantasy</td>\n",
              "      <td>pirates of the caribbean: at world's end</td>\n",
              "      <td>goddess marriage ceremony marriage proposal pi...</td>\n",
              "      <td>Johnny Depp Orlando Bloom Jack Davenport Gore ...</td>\n",
              "    </tr>\n",
              "    <tr>\n",
              "      <th>2</th>\n",
              "      <td>Sam Mendes</td>\n",
              "      <td>Christoph Waltz</td>\n",
              "      <td>Rory Kinnear</td>\n",
              "      <td>Stephanie Sigman</td>\n",
              "      <td>Action Adventure Thriller</td>\n",
              "      <td>spectre</td>\n",
              "      <td>bomb espionage sequel spy terrorist</td>\n",
              "      <td>Christoph Waltz Rory Kinnear Stephanie Sigman ...</td>\n",
              "    </tr>\n",
              "    <tr>\n",
              "      <th>3</th>\n",
              "      <td>Christopher Nolan</td>\n",
              "      <td>Tom Hardy</td>\n",
              "      <td>Christian Bale</td>\n",
              "      <td>Joseph Gordon-Levitt</td>\n",
              "      <td>Action Thriller</td>\n",
              "      <td>the dark knight rises</td>\n",
              "      <td>deception imprisonment lawlessness police offi...</td>\n",
              "      <td>Tom Hardy Christian Bale Joseph Gordon-Levitt ...</td>\n",
              "    </tr>\n",
              "    <tr>\n",
              "      <th>4</th>\n",
              "      <td>Andrew Stanton</td>\n",
              "      <td>Daryl Sabara</td>\n",
              "      <td>Samantha Morton</td>\n",
              "      <td>Polly Walker</td>\n",
              "      <td>Action Adventure Sci-Fi</td>\n",
              "      <td>john carter</td>\n",
              "      <td>alien american civil war male nipple mars prin...</td>\n",
              "      <td>Daryl Sabara Samantha Morton Polly Walker Andr...</td>\n",
              "    </tr>\n",
              "    <tr>\n",
              "      <th>...</th>\n",
              "      <td>...</td>\n",
              "      <td>...</td>\n",
              "      <td>...</td>\n",
              "      <td>...</td>\n",
              "      <td>...</td>\n",
              "      <td>...</td>\n",
              "      <td>...</td>\n",
              "      <td>...</td>\n",
              "    </tr>\n",
              "    <tr>\n",
              "      <th>524</th>\n",
              "      <td>Anshai Lal</td>\n",
              "      <td>Anushka Sharma</td>\n",
              "      <td>Diljit Dosanjh</td>\n",
              "      <td>Suraj Sharma</td>\n",
              "      <td>Fantasy Comedy Romance Drama</td>\n",
              "      <td>phillauri</td>\n",
              "      <td>bad luck spirit</td>\n",
              "      <td>Anushka Sharma Diljit Dosanjh Suraj Sharma Ans...</td>\n",
              "    </tr>\n",
              "    <tr>\n",
              "      <th>526</th>\n",
              "      <td>Farhad Mann</td>\n",
              "      <td>Adelaide Kane</td>\n",
              "      <td>Benjamin Hollingsworth</td>\n",
              "      <td>Jean Louisa Kelly</td>\n",
              "      <td>Romance</td>\n",
              "      <td>can't buy my love</td>\n",
              "      <td>emt</td>\n",
              "      <td>Adelaide Kane Benjamin Hollingsworth Jean Loui...</td>\n",
              "    </tr>\n",
              "    <tr>\n",
              "      <th>527</th>\n",
              "      <td>Hannaleena Hauru</td>\n",
              "      <td>Inka Haapamäki</td>\n",
              "      <td>Rosa Honkonen</td>\n",
              "      <td>Tiitus Rantala</td>\n",
              "      <td>Romance Comedy</td>\n",
              "      <td>thick lashes of lauri mäntyvaara</td>\n",
              "      <td>fantasy youth weird</td>\n",
              "      <td>Inka Haapamäki Rosa Honkonen Tiitus Rantala Ha...</td>\n",
              "    </tr>\n",
              "    <tr>\n",
              "      <th>528</th>\n",
              "      <td>Jonathan A. Rosenbaum</td>\n",
              "      <td>Lou Diamond Phillips</td>\n",
              "      <td>Wallace Shawn</td>\n",
              "      <td>Gina Holden</td>\n",
              "      <td>Crime Comedy Action Family</td>\n",
              "      <td>cop and a half: new recruit</td>\n",
              "      <td>sequel tv movie buddy cop</td>\n",
              "      <td>Lou Diamond Phillips Wallace Shawn Gina Holden...</td>\n",
              "    </tr>\n",
              "    <tr>\n",
              "      <th>530</th>\n",
              "      <td>Ravi Udyawar</td>\n",
              "      <td>Sridevi Kapoor</td>\n",
              "      <td>Sajal Ali</td>\n",
              "      <td>Akshaye Khanna</td>\n",
              "      <td>Crime Drama Thriller</td>\n",
              "      <td>mom</td>\n",
              "      <td>physical abuse sexual assault</td>\n",
              "      <td>Sridevi Kapoor Sajal Ali Akshaye Khanna Ravi U...</td>\n",
              "    </tr>\n",
              "  </tbody>\n",
              "</table>\n",
              "<p>5131 rows × 8 columns</p>\n",
              "</div>"
            ],
            "text/plain": [
              "             director_name  ...                                               comb\n",
              "0            James Cameron  ...  CCH Pounder Joel David Moore Wes Studi James C...\n",
              "1           Gore Verbinski  ...  Johnny Depp Orlando Bloom Jack Davenport Gore ...\n",
              "2               Sam Mendes  ...  Christoph Waltz Rory Kinnear Stephanie Sigman ...\n",
              "3        Christopher Nolan  ...  Tom Hardy Christian Bale Joseph Gordon-Levitt ...\n",
              "4           Andrew Stanton  ...  Daryl Sabara Samantha Morton Polly Walker Andr...\n",
              "..                     ...  ...                                                ...\n",
              "524             Anshai Lal  ...  Anushka Sharma Diljit Dosanjh Suraj Sharma Ans...\n",
              "526            Farhad Mann  ...  Adelaide Kane Benjamin Hollingsworth Jean Loui...\n",
              "527       Hannaleena Hauru  ...  Inka Haapamäki Rosa Honkonen Tiitus Rantala Ha...\n",
              "528  Jonathan A. Rosenbaum  ...  Lou Diamond Phillips Wallace Shawn Gina Holden...\n",
              "530           Ravi Udyawar  ...  Sridevi Kapoor Sajal Ali Akshaye Khanna Ravi U...\n",
              "\n",
              "[5131 rows x 8 columns]"
            ]
          },
          "metadata": {
            "tags": []
          },
          "execution_count": 151
        }
      ]
    },
    {
      "cell_type": "code",
      "metadata": {
        "id": "ILxUOSf1cT4x"
      },
      "source": [
        "new.drop_duplicates(subset =\"movie_title\", keep = 'last', inplace = True)"
      ],
      "execution_count": null,
      "outputs": []
    },
    {
      "cell_type": "code",
      "metadata": {
        "id": "IZmaFdh8cZJJ",
        "colab": {
          "base_uri": "https://localhost:8080/"
        },
        "outputId": "c8131c08-84e1-431f-b5bf-65b4d48feda0"
      },
      "source": [
        "new.iloc[-1]"
      ],
      "execution_count": null,
      "outputs": [
        {
          "output_type": "execute_result",
          "data": {
            "text/plain": [
              "director_name                                         Ravi Udyawar\n",
              "actor_1_name                                        Sridevi Kapoor\n",
              "actor_2_name                                             Sajal Ali\n",
              "actor_3_name                                        Akshaye Khanna\n",
              "genres                                        Crime Drama Thriller\n",
              "movie_title                                                    mom\n",
              "keywords                             physical abuse sexual assault\n",
              "comb             Sridevi Kapoor Sajal Ali Akshaye Khanna Ravi U...\n",
              "Name: 530, dtype: object"
            ]
          },
          "metadata": {
            "tags": []
          },
          "execution_count": 153
        }
      ]
    },
    {
      "cell_type": "code",
      "metadata": {
        "id": "FyBsj72PcZ8z"
      },
      "source": [
        "new.to_csv('/content/drive/MyDrive/deviants_pg5/complted data/preprocessed_data/new_data.csv',index=False)"
      ],
      "execution_count": null,
      "outputs": []
    },
    {
      "cell_type": "code",
      "metadata": {
        "id": "RergypyFkB_3"
      },
      "source": [
        ""
      ],
      "execution_count": null,
      "outputs": []
    }
  ]
}