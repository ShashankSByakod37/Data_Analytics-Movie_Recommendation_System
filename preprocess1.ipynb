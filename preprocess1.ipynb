{
  "nbformat": 4,
  "nbformat_minor": 0,
  "metadata": {
    "colab": {
      "name": "preprocess1.ipynb",
      "provenance": [],
      "collapsed_sections": []
    },
    "kernelspec": {
      "name": "python3",
      "display_name": "Python 3"
    }
  },
  "cells": [
    {
      "cell_type": "code",
      "metadata": {
        "id": "lzZHoucOF46i"
      },
      "source": [
        "import pandas as pd\n",
        "import numpy as np"
      ],
      "execution_count": null,
      "outputs": []
    },
    {
      "cell_type": "markdown",
      "metadata": {
        "id": "QDVf4ol19Pvt"
      },
      "source": [
        "**#Data pre-processing**"
      ]
    },
    {
      "cell_type": "code",
      "metadata": {
        "colab": {
          "base_uri": "https://localhost:8080/"
        },
        "id": "FrIg1-z8dVkL",
        "outputId": "18f740fa-d41f-4da9-dc63-885056181996"
      },
      "source": [
        "from google.colab import drive\n",
        "drive.mount('/content/drive')"
      ],
      "execution_count": null,
      "outputs": [
        {
          "output_type": "stream",
          "text": [
            "Drive already mounted at /content/drive; to attempt to forcibly remount, call drive.mount(\"/content/drive\", force_remount=True).\n"
          ],
          "name": "stdout"
        }
      ]
    },
    {
      "cell_type": "code",
      "metadata": {
        "id": "BAz9yY429S3l"
      },
      "source": [
        "df1 = pd.read_csv(\"/content/drive/MyDrive/deviants_pg5/complted data/tmdb_movie_metadata.csv\")"
      ],
      "execution_count": null,
      "outputs": []
    },
    {
      "cell_type": "code",
      "metadata": {
        "id": "0pyzf8av9wkq",
        "colab": {
          "base_uri": "https://localhost:8080/"
        },
        "outputId": "541bd4c1-7659-41fa-db84-3fc09ef257df"
      },
      "source": [
        "df1['imdb_score'].dtype"
      ],
      "execution_count": null,
      "outputs": [
        {
          "output_type": "execute_result",
          "data": {
            "text/plain": [
              "dtype('float64')"
            ]
          },
          "metadata": {
            "tags": []
          },
          "execution_count": 142
        }
      ]
    },
    {
      "cell_type": "code",
      "metadata": {
        "id": "u5xyd7Sg93Cg",
        "colab": {
          "base_uri": "https://localhost:8080/"
        },
        "outputId": "0ee8ef4f-9a8f-41b6-d03b-f5f5fd7bf3f9"
      },
      "source": [
        "df1.shape"
      ],
      "execution_count": null,
      "outputs": [
        {
          "output_type": "execute_result",
          "data": {
            "text/plain": [
              "(5043, 28)"
            ]
          },
          "metadata": {
            "tags": []
          },
          "execution_count": 143
        }
      ]
    },
    {
      "cell_type": "code",
      "metadata": {
        "id": "rSdFThd1A1sk",
        "colab": {
          "base_uri": "https://localhost:8080/"
        },
        "outputId": "bc9171e6-9ea3-48ed-df4c-40ad09c5fb3e"
      },
      "source": [
        "list(df1.columns)"
      ],
      "execution_count": null,
      "outputs": [
        {
          "output_type": "execute_result",
          "data": {
            "text/plain": [
              "['color',\n",
              " 'director_name',\n",
              " 'num_critic_for_reviews',\n",
              " 'duration',\n",
              " 'director_facebook_likes',\n",
              " 'actor_3_facebook_likes',\n",
              " 'actor_2_name',\n",
              " 'actor_1_facebook_likes',\n",
              " 'gross',\n",
              " 'genres',\n",
              " 'actor_1_name',\n",
              " 'movie_title',\n",
              " 'num_voted_users',\n",
              " 'cast_total_facebook_likes',\n",
              " 'actor_3_name',\n",
              " 'facenumber_in_poster',\n",
              " 'plot_keywords',\n",
              " 'movie_imdb_link',\n",
              " 'num_user_for_reviews',\n",
              " 'language',\n",
              " 'country',\n",
              " 'content_rating',\n",
              " 'budget',\n",
              " 'title_year',\n",
              " 'actor_2_facebook_likes',\n",
              " 'imdb_score',\n",
              " 'aspect_ratio',\n",
              " 'movie_facebook_likes']"
            ]
          },
          "metadata": {
            "tags": []
          },
          "execution_count": 144
        }
      ]
    },
    {
      "cell_type": "code",
      "metadata": {
        "id": "gViZgPKpBKSw",
        "colab": {
          "base_uri": "https://localhost:8080/"
        },
        "outputId": "0de21283-1d78-46f4-aa58-9e5be986c8db"
      },
      "source": [
        "df1.isnull().sum()"
      ],
      "execution_count": null,
      "outputs": [
        {
          "output_type": "execute_result",
          "data": {
            "text/plain": [
              "color                         19\n",
              "director_name                104\n",
              "num_critic_for_reviews        50\n",
              "duration                      15\n",
              "director_facebook_likes      104\n",
              "actor_3_facebook_likes        23\n",
              "actor_2_name                  13\n",
              "actor_1_facebook_likes         7\n",
              "gross                        884\n",
              "genres                         0\n",
              "actor_1_name                   7\n",
              "movie_title                    0\n",
              "num_voted_users                0\n",
              "cast_total_facebook_likes      0\n",
              "actor_3_name                  23\n",
              "facenumber_in_poster          13\n",
              "plot_keywords                153\n",
              "movie_imdb_link                0\n",
              "num_user_for_reviews          21\n",
              "language                      12\n",
              "country                        5\n",
              "content_rating               303\n",
              "budget                       492\n",
              "title_year                   108\n",
              "actor_2_facebook_likes        13\n",
              "imdb_score                     0\n",
              "aspect_ratio                 329\n",
              "movie_facebook_likes           0\n",
              "dtype: int64"
            ]
          },
          "metadata": {
            "tags": []
          },
          "execution_count": 145
        }
      ]
    },
    {
      "cell_type": "code",
      "metadata": {
        "id": "7z7iBMLnBaTV",
        "colab": {
          "base_uri": "https://localhost:8080/"
        },
        "outputId": "83c95f26-4a5d-40f3-ace4-a49df35ccd31"
      },
      "source": [
        "list(df1.movie_title.head(10))"
      ],
      "execution_count": null,
      "outputs": [
        {
          "output_type": "execute_result",
          "data": {
            "text/plain": [
              "['Avatar\\xa0',\n",
              " \"Pirates of the Caribbean: At World's End\\xa0\",\n",
              " 'Spectre\\xa0',\n",
              " 'The Dark Knight Rises\\xa0',\n",
              " 'Star Wars: Episode VII - The Force Awakens\\xa0            ',\n",
              " 'John Carter\\xa0',\n",
              " 'Spider-Man 3\\xa0',\n",
              " 'Tangled\\xa0',\n",
              " 'Avengers: Age of Ultron\\xa0',\n",
              " 'Harry Potter and the Half-Blood Prince\\xa0']"
            ]
          },
          "metadata": {
            "tags": []
          },
          "execution_count": 146
        }
      ]
    },
    {
      "cell_type": "code",
      "metadata": {
        "colab": {
          "base_uri": "https://localhost:8080/",
          "height": 419
        },
        "id": "LVOiaw5nB2uV",
        "outputId": "9f87e220-47f3-468c-ac61-4dd2a504a0d9"
      },
      "source": [
        "df2  = df1.loc[:,['movie_title','imdb_score']]\n",
        "df2['rating'] = df2[\"imdb_score\"]/2\n",
        "df2.drop('imdb_score',axis=1,inplace=True)\n",
        "df2\n"
      ],
      "execution_count": null,
      "outputs": [
        {
          "output_type": "execute_result",
          "data": {
            "text/html": [
              "<div>\n",
              "<style scoped>\n",
              "    .dataframe tbody tr th:only-of-type {\n",
              "        vertical-align: middle;\n",
              "    }\n",
              "\n",
              "    .dataframe tbody tr th {\n",
              "        vertical-align: top;\n",
              "    }\n",
              "\n",
              "    .dataframe thead th {\n",
              "        text-align: right;\n",
              "    }\n",
              "</style>\n",
              "<table border=\"1\" class=\"dataframe\">\n",
              "  <thead>\n",
              "    <tr style=\"text-align: right;\">\n",
              "      <th></th>\n",
              "      <th>movie_title</th>\n",
              "      <th>rating</th>\n",
              "    </tr>\n",
              "  </thead>\n",
              "  <tbody>\n",
              "    <tr>\n",
              "      <th>0</th>\n",
              "      <td>Avatar</td>\n",
              "      <td>3.95</td>\n",
              "    </tr>\n",
              "    <tr>\n",
              "      <th>1</th>\n",
              "      <td>Pirates of the Caribbean: At World's End</td>\n",
              "      <td>3.55</td>\n",
              "    </tr>\n",
              "    <tr>\n",
              "      <th>2</th>\n",
              "      <td>Spectre</td>\n",
              "      <td>3.40</td>\n",
              "    </tr>\n",
              "    <tr>\n",
              "      <th>3</th>\n",
              "      <td>The Dark Knight Rises</td>\n",
              "      <td>4.25</td>\n",
              "    </tr>\n",
              "    <tr>\n",
              "      <th>4</th>\n",
              "      <td>Star Wars: Episode VII - The Force Awakens    ...</td>\n",
              "      <td>3.55</td>\n",
              "    </tr>\n",
              "    <tr>\n",
              "      <th>...</th>\n",
              "      <td>...</td>\n",
              "      <td>...</td>\n",
              "    </tr>\n",
              "    <tr>\n",
              "      <th>5038</th>\n",
              "      <td>Signed Sealed Delivered</td>\n",
              "      <td>3.85</td>\n",
              "    </tr>\n",
              "    <tr>\n",
              "      <th>5039</th>\n",
              "      <td>The Following</td>\n",
              "      <td>3.75</td>\n",
              "    </tr>\n",
              "    <tr>\n",
              "      <th>5040</th>\n",
              "      <td>A Plague So Pleasant</td>\n",
              "      <td>3.15</td>\n",
              "    </tr>\n",
              "    <tr>\n",
              "      <th>5041</th>\n",
              "      <td>Shanghai Calling</td>\n",
              "      <td>3.15</td>\n",
              "    </tr>\n",
              "    <tr>\n",
              "      <th>5042</th>\n",
              "      <td>My Date with Drew</td>\n",
              "      <td>3.30</td>\n",
              "    </tr>\n",
              "  </tbody>\n",
              "</table>\n",
              "<p>5043 rows × 2 columns</p>\n",
              "</div>"
            ],
            "text/plain": [
              "                                            movie_title  rating\n",
              "0                                               Avatar     3.95\n",
              "1             Pirates of the Caribbean: At World's End     3.55\n",
              "2                                              Spectre     3.40\n",
              "3                                The Dark Knight Rises     4.25\n",
              "4     Star Wars: Episode VII - The Force Awakens    ...    3.55\n",
              "...                                                 ...     ...\n",
              "5038                           Signed Sealed Delivered     3.85\n",
              "5039                         The Following                 3.75\n",
              "5040                              A Plague So Pleasant     3.15\n",
              "5041                                  Shanghai Calling     3.15\n",
              "5042                                 My Date with Drew     3.30\n",
              "\n",
              "[5043 rows x 2 columns]"
            ]
          },
          "metadata": {
            "tags": []
          },
          "execution_count": 147
        }
      ]
    },
    {
      "cell_type": "code",
      "metadata": {
        "id": "3_zquMteDl3n"
      },
      "source": [
        "df2.to_csv(\"/content/drive/MyDrive/deviants_pg5/complted data/preprocessed_data/data2.csv\",index=False)"
      ],
      "execution_count": null,
      "outputs": []
    },
    {
      "cell_type": "code",
      "metadata": {
        "id": "5PS1hX0rBssi"
      },
      "source": [
        "df1 = df1.loc[:,['director_name','actor_1_name','actor_2_name','actor_3_name','genres','movie_title','plot_keywords']]"
      ],
      "execution_count": null,
      "outputs": []
    },
    {
      "cell_type": "code",
      "metadata": {
        "id": "oFUvNFo5CQ-7"
      },
      "source": [
        "#df1[]"
      ],
      "execution_count": null,
      "outputs": []
    },
    {
      "cell_type": "code",
      "metadata": {
        "id": "vb36oAAuC5IL"
      },
      "source": [
        "# df1[\"director_name\"] = df1[\"director_name\"].replace(np.nan , \"unknown\") \n",
        "# df1[\"actor_1_name\"] = df1[\"actor_1_name\"].replace(np.nan , \"unknown\") \n",
        "# df1[\"actor_2_name\"] = df1[\"actor_2_name\"].replace(np.nan , \"unknown\") \n",
        "# df1['actor_3_name'] = df1['actor_3_name'].replace(np.nan, 'unknown')\n",
        "# df1[\"plot_keywords\"] = df1[\"plot_keywords\"].replace(np.nan,\"unknown\")\n",
        "df1 = df1.dropna(how = 'any')"
      ],
      "execution_count": null,
      "outputs": []
    },
    {
      "cell_type": "code",
      "metadata": {
        "colab": {
          "base_uri": "https://localhost:8080/"
        },
        "id": "x236COzQjcTO",
        "outputId": "868983fa-9f71-4152-9c81-4ef04d100713"
      },
      "source": [
        "df1.plot_keywords"
      ],
      "execution_count": null,
      "outputs": [
        {
          "output_type": "execute_result",
          "data": {
            "text/plain": [
              "0                  avatar|future|marine|native|paraplegic\n",
              "1       goddess|marriage ceremony|marriage proposal|pi...\n",
              "2                     bomb|espionage|sequel|spy|terrorist\n",
              "3       deception|imprisonment|lawlessness|police offi...\n",
              "5       alien|american civil war|male nipple|mars|prin...\n",
              "                              ...                        \n",
              "5035                   assassin|death|guitar|gun|mariachi\n",
              "5036          jewell|mongol|nostradamus|stepnicka|vallone\n",
              "5037                  written and directed by cast member\n",
              "5038               fraud|postal worker|prison|theft|trial\n",
              "5042    actress name in title|crush|date|four word tit...\n",
              "Name: plot_keywords, Length: 4781, dtype: object"
            ]
          },
          "metadata": {
            "tags": []
          },
          "execution_count": 152
        }
      ]
    },
    {
      "cell_type": "code",
      "metadata": {
        "colab": {
          "base_uri": "https://localhost:8080/"
        },
        "id": "pBNnf3LPrALj",
        "outputId": "d1abf610-5691-4bca-99e7-1b4363708eaa"
      },
      "source": [
        "df1.isna().sum()"
      ],
      "execution_count": null,
      "outputs": [
        {
          "output_type": "execute_result",
          "data": {
            "text/plain": [
              "director_name    0\n",
              "actor_1_name     0\n",
              "actor_2_name     0\n",
              "actor_3_name     0\n",
              "genres           0\n",
              "movie_title      0\n",
              "plot_keywords    0\n",
              "dtype: int64"
            ]
          },
          "metadata": {
            "tags": []
          },
          "execution_count": 153
        }
      ]
    },
    {
      "cell_type": "code",
      "metadata": {
        "id": "GbA9ROncDqyd",
        "colab": {
          "base_uri": "https://localhost:8080/"
        },
        "outputId": "d225d32f-c9d3-4cbc-ff6b-fb8ac8fa3cd8"
      },
      "source": [
        "df1.director_name.isnull()\n",
        "df1.actor_1_name.isnull().sum()\n",
        "df1.actor_2_name.isnull().sum()\n",
        "df1.actor_3_name.isnull().sum()"
      ],
      "execution_count": null,
      "outputs": [
        {
          "output_type": "execute_result",
          "data": {
            "text/plain": [
              "0"
            ]
          },
          "metadata": {
            "tags": []
          },
          "execution_count": 154
        }
      ]
    },
    {
      "cell_type": "code",
      "metadata": {
        "id": "x8tl4S3AEAgV",
        "colab": {
          "base_uri": "https://localhost:8080/",
          "height": 419
        },
        "outputId": "f77b6ede-d52b-4e78-e990-1fdb9a065044"
      },
      "source": [
        "df1"
      ],
      "execution_count": null,
      "outputs": [
        {
          "output_type": "execute_result",
          "data": {
            "text/html": [
              "<div>\n",
              "<style scoped>\n",
              "    .dataframe tbody tr th:only-of-type {\n",
              "        vertical-align: middle;\n",
              "    }\n",
              "\n",
              "    .dataframe tbody tr th {\n",
              "        vertical-align: top;\n",
              "    }\n",
              "\n",
              "    .dataframe thead th {\n",
              "        text-align: right;\n",
              "    }\n",
              "</style>\n",
              "<table border=\"1\" class=\"dataframe\">\n",
              "  <thead>\n",
              "    <tr style=\"text-align: right;\">\n",
              "      <th></th>\n",
              "      <th>director_name</th>\n",
              "      <th>actor_1_name</th>\n",
              "      <th>actor_2_name</th>\n",
              "      <th>actor_3_name</th>\n",
              "      <th>genres</th>\n",
              "      <th>movie_title</th>\n",
              "      <th>plot_keywords</th>\n",
              "    </tr>\n",
              "  </thead>\n",
              "  <tbody>\n",
              "    <tr>\n",
              "      <th>0</th>\n",
              "      <td>James Cameron</td>\n",
              "      <td>CCH Pounder</td>\n",
              "      <td>Joel David Moore</td>\n",
              "      <td>Wes Studi</td>\n",
              "      <td>Action|Adventure|Fantasy|Sci-Fi</td>\n",
              "      <td>Avatar</td>\n",
              "      <td>avatar|future|marine|native|paraplegic</td>\n",
              "    </tr>\n",
              "    <tr>\n",
              "      <th>1</th>\n",
              "      <td>Gore Verbinski</td>\n",
              "      <td>Johnny Depp</td>\n",
              "      <td>Orlando Bloom</td>\n",
              "      <td>Jack Davenport</td>\n",
              "      <td>Action|Adventure|Fantasy</td>\n",
              "      <td>Pirates of the Caribbean: At World's End</td>\n",
              "      <td>goddess|marriage ceremony|marriage proposal|pi...</td>\n",
              "    </tr>\n",
              "    <tr>\n",
              "      <th>2</th>\n",
              "      <td>Sam Mendes</td>\n",
              "      <td>Christoph Waltz</td>\n",
              "      <td>Rory Kinnear</td>\n",
              "      <td>Stephanie Sigman</td>\n",
              "      <td>Action|Adventure|Thriller</td>\n",
              "      <td>Spectre</td>\n",
              "      <td>bomb|espionage|sequel|spy|terrorist</td>\n",
              "    </tr>\n",
              "    <tr>\n",
              "      <th>3</th>\n",
              "      <td>Christopher Nolan</td>\n",
              "      <td>Tom Hardy</td>\n",
              "      <td>Christian Bale</td>\n",
              "      <td>Joseph Gordon-Levitt</td>\n",
              "      <td>Action|Thriller</td>\n",
              "      <td>The Dark Knight Rises</td>\n",
              "      <td>deception|imprisonment|lawlessness|police offi...</td>\n",
              "    </tr>\n",
              "    <tr>\n",
              "      <th>5</th>\n",
              "      <td>Andrew Stanton</td>\n",
              "      <td>Daryl Sabara</td>\n",
              "      <td>Samantha Morton</td>\n",
              "      <td>Polly Walker</td>\n",
              "      <td>Action|Adventure|Sci-Fi</td>\n",
              "      <td>John Carter</td>\n",
              "      <td>alien|american civil war|male nipple|mars|prin...</td>\n",
              "    </tr>\n",
              "    <tr>\n",
              "      <th>...</th>\n",
              "      <td>...</td>\n",
              "      <td>...</td>\n",
              "      <td>...</td>\n",
              "      <td>...</td>\n",
              "      <td>...</td>\n",
              "      <td>...</td>\n",
              "      <td>...</td>\n",
              "    </tr>\n",
              "    <tr>\n",
              "      <th>5035</th>\n",
              "      <td>Robert Rodriguez</td>\n",
              "      <td>Carlos Gallardo</td>\n",
              "      <td>Peter Marquardt</td>\n",
              "      <td>Consuelo Gómez</td>\n",
              "      <td>Action|Crime|Drama|Romance|Thriller</td>\n",
              "      <td>El Mariachi</td>\n",
              "      <td>assassin|death|guitar|gun|mariachi</td>\n",
              "    </tr>\n",
              "    <tr>\n",
              "      <th>5036</th>\n",
              "      <td>Anthony Vallone</td>\n",
              "      <td>Richard Jewell</td>\n",
              "      <td>John Considine</td>\n",
              "      <td>Sara Stepnicka</td>\n",
              "      <td>Crime|Drama</td>\n",
              "      <td>The Mongol King</td>\n",
              "      <td>jewell|mongol|nostradamus|stepnicka|vallone</td>\n",
              "    </tr>\n",
              "    <tr>\n",
              "      <th>5037</th>\n",
              "      <td>Edward Burns</td>\n",
              "      <td>Kerry Bishé</td>\n",
              "      <td>Caitlin FitzGerald</td>\n",
              "      <td>Daniella Pineda</td>\n",
              "      <td>Comedy|Drama</td>\n",
              "      <td>Newlyweds</td>\n",
              "      <td>written and directed by cast member</td>\n",
              "    </tr>\n",
              "    <tr>\n",
              "      <th>5038</th>\n",
              "      <td>Scott Smith</td>\n",
              "      <td>Eric Mabius</td>\n",
              "      <td>Daphne Zuniga</td>\n",
              "      <td>Crystal Lowe</td>\n",
              "      <td>Comedy|Drama</td>\n",
              "      <td>Signed Sealed Delivered</td>\n",
              "      <td>fraud|postal worker|prison|theft|trial</td>\n",
              "    </tr>\n",
              "    <tr>\n",
              "      <th>5042</th>\n",
              "      <td>Jon Gunn</td>\n",
              "      <td>John August</td>\n",
              "      <td>Brian Herzlinger</td>\n",
              "      <td>Jon Gunn</td>\n",
              "      <td>Documentary</td>\n",
              "      <td>My Date with Drew</td>\n",
              "      <td>actress name in title|crush|date|four word tit...</td>\n",
              "    </tr>\n",
              "  </tbody>\n",
              "</table>\n",
              "<p>4781 rows × 7 columns</p>\n",
              "</div>"
            ],
            "text/plain": [
              "          director_name  ...                                      plot_keywords\n",
              "0         James Cameron  ...             avatar|future|marine|native|paraplegic\n",
              "1        Gore Verbinski  ...  goddess|marriage ceremony|marriage proposal|pi...\n",
              "2            Sam Mendes  ...                bomb|espionage|sequel|spy|terrorist\n",
              "3     Christopher Nolan  ...  deception|imprisonment|lawlessness|police offi...\n",
              "5        Andrew Stanton  ...  alien|american civil war|male nipple|mars|prin...\n",
              "...                 ...  ...                                                ...\n",
              "5035   Robert Rodriguez  ...                 assassin|death|guitar|gun|mariachi\n",
              "5036    Anthony Vallone  ...        jewell|mongol|nostradamus|stepnicka|vallone\n",
              "5037       Edward Burns  ...                written and directed by cast member\n",
              "5038        Scott Smith  ...             fraud|postal worker|prison|theft|trial\n",
              "5042           Jon Gunn  ...  actress name in title|crush|date|four word tit...\n",
              "\n",
              "[4781 rows x 7 columns]"
            ]
          },
          "metadata": {
            "tags": []
          },
          "execution_count": 155
        }
      ]
    },
    {
      "cell_type": "code",
      "metadata": {
        "id": "kv5VdLaiGVqc"
      },
      "source": [
        "df1[\"genres\"] = df1[\"genres\"].str.replace(\"|\",\" \")\n",
        "#df1['genres'] = df1['genres'].str.replace('|', ' ')\n",
        "df1[\"plot_keywords\"] = df1[\"plot_keywords\"].str.replace(\"|\",\" \")"
      ],
      "execution_count": null,
      "outputs": []
    },
    {
      "cell_type": "code",
      "metadata": {
        "id": "u9PG0WiDHRcY",
        "colab": {
          "base_uri": "https://localhost:8080/"
        },
        "outputId": "d05984e8-b1a1-4634-c2a7-368dd4ef8a83"
      },
      "source": [
        "df1.plot_keywords"
      ],
      "execution_count": null,
      "outputs": [
        {
          "output_type": "execute_result",
          "data": {
            "text/plain": [
              "0                  avatar future marine native paraplegic\n",
              "1       goddess marriage ceremony marriage proposal pi...\n",
              "2                     bomb espionage sequel spy terrorist\n",
              "3       deception imprisonment lawlessness police offi...\n",
              "5       alien american civil war male nipple mars prin...\n",
              "                              ...                        \n",
              "5035                   assassin death guitar gun mariachi\n",
              "5036          jewell mongol nostradamus stepnicka vallone\n",
              "5037                  written and directed by cast member\n",
              "5038               fraud postal worker prison theft trial\n",
              "5042    actress name in title crush date four word tit...\n",
              "Name: plot_keywords, Length: 4781, dtype: object"
            ]
          },
          "metadata": {
            "tags": []
          },
          "execution_count": 157
        }
      ]
    },
    {
      "cell_type": "code",
      "metadata": {
        "id": "M8TUg5k1HSSP",
        "colab": {
          "base_uri": "https://localhost:8080/",
          "height": 35
        },
        "outputId": "e5e8bfff-de32-4792-db1d-2f0b20c80251"
      },
      "source": [
        "df1[\"movie_title\"] = df1[\"movie_title\"].str.lower()\n",
        "df1[\"movie_title\"][1]"
      ],
      "execution_count": null,
      "outputs": [
        {
          "output_type": "execute_result",
          "data": {
            "application/vnd.google.colaboratory.intrinsic+json": {
              "type": "string"
            },
            "text/plain": [
              "\"pirates of the caribbean: at world's end\\xa0\""
            ]
          },
          "metadata": {
            "tags": []
          },
          "execution_count": 158
        }
      ]
    },
    {
      "cell_type": "code",
      "metadata": {
        "id": "KykGpSktIeUz",
        "colab": {
          "base_uri": "https://localhost:8080/",
          "height": 35
        },
        "outputId": "eb410836-6ba8-44d3-e1e9-3c9cbe784733"
      },
      "source": [
        "df1['movie_title'] = df1['movie_title'].apply(lambda x : x[:-1])\n",
        "df1[\"movie_title\"][1]\n",
        "####still not completed wrong output"
      ],
      "execution_count": null,
      "outputs": [
        {
          "output_type": "execute_result",
          "data": {
            "application/vnd.google.colaboratory.intrinsic+json": {
              "type": "string"
            },
            "text/plain": [
              "\"pirates of the caribbean: at world's end\""
            ]
          },
          "metadata": {
            "tags": []
          },
          "execution_count": 159
        }
      ]
    },
    {
      "cell_type": "code",
      "metadata": {
        "id": "vYfsqdKTYPfg"
      },
      "source": [
        "df1.rename(columns={'plot_keywords':'keywords'},inplace=True)"
      ],
      "execution_count": null,
      "outputs": []
    },
    {
      "cell_type": "code",
      "metadata": {
        "colab": {
          "base_uri": "https://localhost:8080/",
          "height": 204
        },
        "id": "dxOdoXbwkIDm",
        "outputId": "85409776-892c-48fa-8344-01b8cc5ee02a"
      },
      "source": [
        "df1.head()"
      ],
      "execution_count": null,
      "outputs": [
        {
          "output_type": "execute_result",
          "data": {
            "text/html": [
              "<div>\n",
              "<style scoped>\n",
              "    .dataframe tbody tr th:only-of-type {\n",
              "        vertical-align: middle;\n",
              "    }\n",
              "\n",
              "    .dataframe tbody tr th {\n",
              "        vertical-align: top;\n",
              "    }\n",
              "\n",
              "    .dataframe thead th {\n",
              "        text-align: right;\n",
              "    }\n",
              "</style>\n",
              "<table border=\"1\" class=\"dataframe\">\n",
              "  <thead>\n",
              "    <tr style=\"text-align: right;\">\n",
              "      <th></th>\n",
              "      <th>director_name</th>\n",
              "      <th>actor_1_name</th>\n",
              "      <th>actor_2_name</th>\n",
              "      <th>actor_3_name</th>\n",
              "      <th>genres</th>\n",
              "      <th>movie_title</th>\n",
              "      <th>keywords</th>\n",
              "    </tr>\n",
              "  </thead>\n",
              "  <tbody>\n",
              "    <tr>\n",
              "      <th>0</th>\n",
              "      <td>James Cameron</td>\n",
              "      <td>CCH Pounder</td>\n",
              "      <td>Joel David Moore</td>\n",
              "      <td>Wes Studi</td>\n",
              "      <td>Action Adventure Fantasy Sci-Fi</td>\n",
              "      <td>avatar</td>\n",
              "      <td>avatar future marine native paraplegic</td>\n",
              "    </tr>\n",
              "    <tr>\n",
              "      <th>1</th>\n",
              "      <td>Gore Verbinski</td>\n",
              "      <td>Johnny Depp</td>\n",
              "      <td>Orlando Bloom</td>\n",
              "      <td>Jack Davenport</td>\n",
              "      <td>Action Adventure Fantasy</td>\n",
              "      <td>pirates of the caribbean: at world's end</td>\n",
              "      <td>goddess marriage ceremony marriage proposal pi...</td>\n",
              "    </tr>\n",
              "    <tr>\n",
              "      <th>2</th>\n",
              "      <td>Sam Mendes</td>\n",
              "      <td>Christoph Waltz</td>\n",
              "      <td>Rory Kinnear</td>\n",
              "      <td>Stephanie Sigman</td>\n",
              "      <td>Action Adventure Thriller</td>\n",
              "      <td>spectre</td>\n",
              "      <td>bomb espionage sequel spy terrorist</td>\n",
              "    </tr>\n",
              "    <tr>\n",
              "      <th>3</th>\n",
              "      <td>Christopher Nolan</td>\n",
              "      <td>Tom Hardy</td>\n",
              "      <td>Christian Bale</td>\n",
              "      <td>Joseph Gordon-Levitt</td>\n",
              "      <td>Action Thriller</td>\n",
              "      <td>the dark knight rises</td>\n",
              "      <td>deception imprisonment lawlessness police offi...</td>\n",
              "    </tr>\n",
              "    <tr>\n",
              "      <th>5</th>\n",
              "      <td>Andrew Stanton</td>\n",
              "      <td>Daryl Sabara</td>\n",
              "      <td>Samantha Morton</td>\n",
              "      <td>Polly Walker</td>\n",
              "      <td>Action Adventure Sci-Fi</td>\n",
              "      <td>john carter</td>\n",
              "      <td>alien american civil war male nipple mars prin...</td>\n",
              "    </tr>\n",
              "  </tbody>\n",
              "</table>\n",
              "</div>"
            ],
            "text/plain": [
              "       director_name  ...                                           keywords\n",
              "0      James Cameron  ...             avatar future marine native paraplegic\n",
              "1     Gore Verbinski  ...  goddess marriage ceremony marriage proposal pi...\n",
              "2         Sam Mendes  ...                bomb espionage sequel spy terrorist\n",
              "3  Christopher Nolan  ...  deception imprisonment lawlessness police offi...\n",
              "5     Andrew Stanton  ...  alien american civil war male nipple mars prin...\n",
              "\n",
              "[5 rows x 7 columns]"
            ]
          },
          "metadata": {
            "tags": []
          },
          "execution_count": 161
        }
      ]
    },
    {
      "cell_type": "code",
      "metadata": {
        "id": "xy1M02HqI7Ej"
      },
      "source": [
        "df1.to_csv(\"/content/drive/MyDrive/deviants_pg5/complted data/preprocessed_data/data.csv\",index=False)"
      ],
      "execution_count": null,
      "outputs": []
    },
    {
      "cell_type": "code",
      "metadata": {
        "id": "lbj0rd8hlqjP"
      },
      "source": [
        ""
      ],
      "execution_count": null,
      "outputs": []
    }
  ]
}