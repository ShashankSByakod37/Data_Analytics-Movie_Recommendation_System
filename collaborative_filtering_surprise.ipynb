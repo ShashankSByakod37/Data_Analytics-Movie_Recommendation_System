{
  "nbformat": 4,
  "nbformat_minor": 0,
  "metadata": {
    "colab": {
      "name": "collaborative_filtering_surprise.ipynb",
      "provenance": [],
      "collapsed_sections": []
    },
    "kernelspec": {
      "name": "python3",
      "display_name": "Python 3"
    }
  },
  "cells": [
    {
      "cell_type": "code",
      "metadata": {
        "colab": {
          "base_uri": "https://localhost:8080/"
        },
        "id": "EgNgP8HhYRK3",
        "outputId": "d14d7208-1dd0-452e-d93d-8d8e0644a972"
      },
      "source": [
        "from google.colab import drive\n",
        "drive.mount('/content/drive')"
      ],
      "execution_count": null,
      "outputs": [
        {
          "output_type": "stream",
          "text": [
            "Drive already mounted at /content/drive; to attempt to forcibly remount, call drive.mount(\"/content/drive\", force_remount=True).\n"
          ],
          "name": "stdout"
        }
      ]
    },
    {
      "cell_type": "code",
      "metadata": {
        "id": "Dnd94jD-XfHt",
        "colab": {
          "base_uri": "https://localhost:8080/"
        },
        "outputId": "ab7efa0b-de2a-4fc8-8362-c4a6488a7577"
      },
      "source": [
        "from google.colab import drive\n",
        "drive.mount('/content/drive')\n",
        "!pip install scikit-surprise\n",
        "from surprise import KNNBasic\n",
        "from surprise import Dataset\n",
        "from surprise import Reader\n",
        "import pandas as pd\n",
        "from collections import defaultdict\n",
        "from operator import itemgetter\n",
        "import heapq\n",
        "import pandas as pd\n",
        "import numpy as np\n"
      ],
      "execution_count": null,
      "outputs": [
        {
          "output_type": "stream",
          "text": [
            "Drive already mounted at /content/drive; to attempt to forcibly remount, call drive.mount(\"/content/drive\", force_remount=True).\n",
            "Requirement already satisfied: scikit-surprise in /usr/local/lib/python3.6/dist-packages (1.1.1)\n",
            "Requirement already satisfied: scipy>=1.0.0 in /usr/local/lib/python3.6/dist-packages (from scikit-surprise) (1.4.1)\n",
            "Requirement already satisfied: numpy>=1.11.2 in /usr/local/lib/python3.6/dist-packages (from scikit-surprise) (1.18.5)\n",
            "Requirement already satisfied: six>=1.10.0 in /usr/local/lib/python3.6/dist-packages (from scikit-surprise) (1.15.0)\n",
            "Requirement already satisfied: joblib>=0.11 in /usr/local/lib/python3.6/dist-packages (from scikit-surprise) (0.17.0)\n"
          ],
          "name": "stdout"
        }
      ]
    },
    {
      "cell_type": "code",
      "metadata": {
        "id": "R5nCQgWnefYm"
      },
      "source": [
        "df = pd.read_csv('/content/drive/MyDrive/deviants_pg5/complted data/preprocessed_data/movies_small.csv')"
      ],
      "execution_count": null,
      "outputs": []
    },
    {
      "cell_type": "code",
      "metadata": {
        "id": "Kd5b6U1C9ZsN"
      },
      "source": [
        "def load_dataset():\n",
        "    reader = Reader(line_format='user item rating timestamp', sep=',', skip_lines=1)\n",
        "    ratings_dataset = Dataset.load_from_file('/content/drive/MyDrive/deviants_pg5/complted data/preprocessed_data/ratings_small.csv', reader=reader)\n",
        "    return (ratings_dataset)\n",
        "dataset = load_dataset()\n",
        "\n",
        "# Build a full Surprise training set from dataset\n",
        "trainset = dataset.build_full_trainset()"
      ],
      "execution_count": null,
      "outputs": []
    },
    {
      "cell_type": "markdown",
      "metadata": {
        "id": "rpIKBC3qarye"
      },
      "source": [
        "##**Similarity Matrix**\n",
        "\n",
        "####**KNNBasic** is basic collaborative filtering algorithm that uses KNN algorithm in predicting the recommendations. We use cosine similarity as the similarity score criterion.\n",
        "\n",
        "####user_based or not? Whether similarities would be computed between users or between items. This has a huge impact on the performance of a prediction algorithm.\n"
      ]
    },
    {
      "cell_type": "code",
      "metadata": {
        "id": "n8Sqt3dA9Zu9",
        "colab": {
          "base_uri": "https://localhost:8080/"
        },
        "outputId": "554161b5-091b-44b6-a992-f2e84717222e"
      },
      "source": [
        "similarity_matrix = KNNBasic(sim_options={\n",
        "        'name': 'cosine',\n",
        "        'user_based': True\n",
        "        })\\\n",
        "        .fit(trainset)\\\n",
        "        .compute_similarities()"
      ],
      "execution_count": null,
      "outputs": [
        {
          "output_type": "stream",
          "text": [
            "Computing the cosine similarity matrix...\n",
            "Done computing similarity matrix.\n",
            "Computing the cosine similarity matrix...\n",
            "Done computing similarity matrix.\n"
          ],
          "name": "stdout"
        }
      ]
    },
    {
      "cell_type": "code",
      "metadata": {
        "id": "yJ3r2NKn9gO4"
      },
      "source": [
        "# Pick a random user ID, has to be a numeric string.\n",
        "test_subject = '6'\n",
        "\n",
        "# Get the top K items user rated\n",
        "k = 20\n"
      ],
      "execution_count": null,
      "outputs": []
    },
    {
      "cell_type": "code",
      "metadata": {
        "id": "4Ovzl6tT9gUY"
      },
      "source": [
        "# When using Surprise, there are RAW and INNER IDs.\n",
        "# Raw IDs are the IDs, strings or numbers, you use when\n",
        "# creating the trainset. The raw ID will be converted to\n",
        "# an unique integer Surprise can more easily manipulate\n",
        "# for computations.\n",
        "#\n",
        "# So in order to find an user inside the trainset, you\n",
        "# need to convert their RAW ID to the INNER Id. Read\n",
        "# Reference for more info https://surprise.readthedocs.io/en/stable/FAQ.html#what-are-raw-and-inner-ids\n",
        "test_subject_iid = trainset.to_inner_uid(test_subject)\n",
        "\n",
        "# Get the top K items we rated\n",
        "test_subject_ratings = trainset.ur[test_subject_iid]\n",
        "k_neighbors = heapq.nlargest(k, test_subject_ratings, key=lambda t: t[1])"
      ],
      "execution_count": null,
      "outputs": []
    },
    {
      "cell_type": "code",
      "metadata": {
        "id": "icFdIEpl9lc-"
      },
      "source": [
        "# Default dict is basically a standard dictionary,\n",
        "# the difference beeing that it doesn't throw an error\n",
        "# when trying to access a key which does not exist,\n",
        "# instead a new entry, with that key, is created.\n",
        "candidates = defaultdict(float)\n",
        "\n",
        "for itemID, rating in k_neighbors:\n",
        "    try:\n",
        "      similaritities = similarity_matrix[itemID]\n",
        "      for innerID, score in enumerate(similaritities):\n",
        "          candidates[innerID] += score * (rating / 5.0)\n",
        "    except:\n",
        "      continue"
      ],
      "execution_count": null,
      "outputs": []
    },
    {
      "cell_type": "code",
      "metadata": {
        "id": "ioFZnMlq9llz"
      },
      "source": [
        "# Build a dictionary of movies the user has watched\n",
        "watched = {}\n",
        "for itemID, rating in trainset.ur[test_subject_iid]:\n",
        "  watched[itemID] = 1\n",
        "\n",
        "# Add items to list of user's recommendations\n",
        "# If they are similar to their favorite movies,\n",
        "# AND have not already been watched.\n",
        "recommendations = []\n",
        "\n",
        "position = 0\n",
        "for itemID, rating_sum in sorted(candidates.items(), key=itemgetter(1), reverse=True):\n",
        "  if not itemID in watched:\n",
        "    recommendations.append(trainset.to_raw_iid(itemID))\n",
        "    position += 1\n",
        "    if (position > 10): break # We only want top 10\n"
      ],
      "execution_count": null,
      "outputs": []
    },
    {
      "cell_type": "code",
      "metadata": {
        "id": "SiEJm8I4_CkO"
      },
      "source": [
        "recom = pd.DataFrame(recommendations,columns=['movieId'],dtype=int)"
      ],
      "execution_count": null,
      "outputs": []
    },
    {
      "cell_type": "code",
      "metadata": {
        "id": "d4zm9jaV_NPL",
        "colab": {
          "base_uri": "https://localhost:8080/"
        },
        "outputId": "474e60f2-95e4-4a4d-e775-f5c2b3266737"
      },
      "source": [
        "recom.astype(int)\n",
        "pd.merge(df,recom,on='movieId')['title']"
      ],
      "execution_count": null,
      "outputs": [
        {
          "output_type": "execute_result",
          "data": {
            "text/plain": [
              "0                                         Crumb (1994)\n",
              "1                                 Grifters, The (1990)\n",
              "2                           Black Cauldron, The (1985)\n",
              "3                                            Go (1999)\n",
              "4     Star Wars: Episode I - The Phantom Menace (1999)\n",
              "5         Austin Powers: The Spy Who Shagged Me (1999)\n",
              "6                              Dirty Dozen, The (1967)\n",
              "7                                      Magnolia (1999)\n",
              "8                                 Wayne's World (1992)\n",
              "9                                 Thirteen Days (2000)\n",
              "10                        Louis C.K.: Hilarious (2010)\n",
              "Name: title, dtype: object"
            ]
          },
          "metadata": {
            "tags": []
          },
          "execution_count": 11
        }
      ]
    }
  ]
}