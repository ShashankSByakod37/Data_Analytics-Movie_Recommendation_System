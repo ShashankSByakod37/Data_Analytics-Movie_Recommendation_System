{
  "nbformat": 4,
  "nbformat_minor": 0,
  "metadata": {
    "colab": {
      "name": "Recommendation_CosineSimilarity.ipynb",
      "provenance": [],
      "collapsed_sections": []
    },
    "kernelspec": {
      "name": "python3",
      "display_name": "Python 3"
    }
  },
  "cells": [
    {
      "cell_type": "code",
      "metadata": {
        "colab": {
          "base_uri": "https://localhost:8080/"
        },
        "id": "R4nyOf4B7FED",
        "outputId": "021d186b-fb52-4728-edde-7d6998dee8c8"
      },
      "source": [
        "# Mounting the Drive, in order to get the datasets\n",
        "from google.colab import drive\n",
        "drive.mount('/content/drive')"
      ],
      "execution_count": null,
      "outputs": [
        {
          "output_type": "stream",
          "text": [
            "Mounted at /content/drive\n"
          ],
          "name": "stdout"
        }
      ]
    },
    {
      "cell_type": "code",
      "metadata": {
        "id": "6t5JQSAH7PPV"
      },
      "source": [
        "#Importing the necessary libraries\n",
        "import pandas as pd\n",
        "import numpy as np\n",
        "from sklearn.feature_extraction.text import TfidfVectorizer\n",
        "from sklearn.feature_extraction.text import CountVectorizer\n",
        "from sklearn.metrics.pairwise import cosine_similarity\n",
        "from termcolor import colored"
      ],
      "execution_count": null,
      "outputs": []
    },
    {
      "cell_type": "code",
      "metadata": {
        "id": "SXCeSiEl7vt3",
        "colab": {
          "base_uri": "https://localhost:8080/",
          "height": 204
        },
        "outputId": "1fb9d98e-4bff-4a65-bbdf-7163854e8e99"
      },
      "source": [
        "# Reading the preprocessed data\n",
        "data = pd.read_csv('/content/drive/MyDrive/deviants_pg5/complted data/preprocessed_data/new_data.csv')\n",
        "data.head()"
      ],
      "execution_count": null,
      "outputs": [
        {
          "output_type": "execute_result",
          "data": {
            "text/html": [
              "<div>\n",
              "<style scoped>\n",
              "    .dataframe tbody tr th:only-of-type {\n",
              "        vertical-align: middle;\n",
              "    }\n",
              "\n",
              "    .dataframe tbody tr th {\n",
              "        vertical-align: top;\n",
              "    }\n",
              "\n",
              "    .dataframe thead th {\n",
              "        text-align: right;\n",
              "    }\n",
              "</style>\n",
              "<table border=\"1\" class=\"dataframe\">\n",
              "  <thead>\n",
              "    <tr style=\"text-align: right;\">\n",
              "      <th></th>\n",
              "      <th>director_name</th>\n",
              "      <th>actor_1_name</th>\n",
              "      <th>actor_2_name</th>\n",
              "      <th>actor_3_name</th>\n",
              "      <th>genres</th>\n",
              "      <th>movie_title</th>\n",
              "      <th>keywords</th>\n",
              "      <th>comb</th>\n",
              "    </tr>\n",
              "  </thead>\n",
              "  <tbody>\n",
              "    <tr>\n",
              "      <th>0</th>\n",
              "      <td>James Cameron</td>\n",
              "      <td>CCH Pounder</td>\n",
              "      <td>Joel David Moore</td>\n",
              "      <td>Wes Studi</td>\n",
              "      <td>Action Adventure Fantasy Sci-Fi</td>\n",
              "      <td>avatar</td>\n",
              "      <td>avatar future marine native paraplegic</td>\n",
              "      <td>CCH Pounder Joel David Moore Wes Studi James C...</td>\n",
              "    </tr>\n",
              "    <tr>\n",
              "      <th>1</th>\n",
              "      <td>Gore Verbinski</td>\n",
              "      <td>Johnny Depp</td>\n",
              "      <td>Orlando Bloom</td>\n",
              "      <td>Jack Davenport</td>\n",
              "      <td>Action Adventure Fantasy</td>\n",
              "      <td>pirates of the caribbean: at world's end</td>\n",
              "      <td>goddess marriage ceremony marriage proposal pi...</td>\n",
              "      <td>Johnny Depp Orlando Bloom Jack Davenport Gore ...</td>\n",
              "    </tr>\n",
              "    <tr>\n",
              "      <th>2</th>\n",
              "      <td>Sam Mendes</td>\n",
              "      <td>Christoph Waltz</td>\n",
              "      <td>Rory Kinnear</td>\n",
              "      <td>Stephanie Sigman</td>\n",
              "      <td>Action Adventure Thriller</td>\n",
              "      <td>spectre</td>\n",
              "      <td>bomb espionage sequel spy terrorist</td>\n",
              "      <td>Christoph Waltz Rory Kinnear Stephanie Sigman ...</td>\n",
              "    </tr>\n",
              "    <tr>\n",
              "      <th>3</th>\n",
              "      <td>Christopher Nolan</td>\n",
              "      <td>Tom Hardy</td>\n",
              "      <td>Christian Bale</td>\n",
              "      <td>Joseph Gordon-Levitt</td>\n",
              "      <td>Action Thriller</td>\n",
              "      <td>the dark knight rises</td>\n",
              "      <td>deception imprisonment lawlessness police offi...</td>\n",
              "      <td>Tom Hardy Christian Bale Joseph Gordon-Levitt ...</td>\n",
              "    </tr>\n",
              "    <tr>\n",
              "      <th>4</th>\n",
              "      <td>Andrew Stanton</td>\n",
              "      <td>Daryl Sabara</td>\n",
              "      <td>Samantha Morton</td>\n",
              "      <td>Polly Walker</td>\n",
              "      <td>Action Adventure Sci-Fi</td>\n",
              "      <td>john carter</td>\n",
              "      <td>alien american civil war male nipple mars prin...</td>\n",
              "      <td>Daryl Sabara Samantha Morton Polly Walker Andr...</td>\n",
              "    </tr>\n",
              "  </tbody>\n",
              "</table>\n",
              "</div>"
            ],
            "text/plain": [
              "       director_name  ...                                               comb\n",
              "0      James Cameron  ...  CCH Pounder Joel David Moore Wes Studi James C...\n",
              "1     Gore Verbinski  ...  Johnny Depp Orlando Bloom Jack Davenport Gore ...\n",
              "2         Sam Mendes  ...  Christoph Waltz Rory Kinnear Stephanie Sigman ...\n",
              "3  Christopher Nolan  ...  Tom Hardy Christian Bale Joseph Gordon-Levitt ...\n",
              "4     Andrew Stanton  ...  Daryl Sabara Samantha Morton Polly Walker Andr...\n",
              "\n",
              "[5 rows x 8 columns]"
            ]
          },
          "metadata": {
            "tags": []
          },
          "execution_count": 4
        }
      ]
    },
    {
      "cell_type": "markdown",
      "metadata": {
        "id": "p5fAlgk5UAUq"
      },
      "source": [
        "## Getting the Vectorized form of the text in comb column that is present in the preprocessed data\n",
        "\n",
        "The comb column is the basis of our recommendation of movies. The column composes of Movie Stars, Director, genres, and also the keywords that describes the plot of the movie. We convert the text into vectors using TfIdf (Term frequency - Inverse document frequency) transformation.\n",
        "\n",
        "Now what is **term frequency** ,it is the **relative frequency of a word in a document** and is given as *(term instances/total instances)*. **Inverse Document Frequency** is the **relative count of documents containing the term ** is given as *log(number of documents/documents with term)*. The overall importance of each word to the documents in which they appear is equal to TF * IDF.\n",
        "\n",
        "This will give you a **matrix where each column represents a word in the overview vocabulary** (all the words that appear in at least one document) and **each row represents a movie**, as before.This is done to reduce the importance of words that occur frequently in plot keywords and therefore, their significance in computing the final similarity score."
      ]
    },
    {
      "cell_type": "code",
      "metadata": {
        "id": "OjWzRwK5Dbq4"
      },
      "source": [
        "tfidf = TfidfVectorizer()\n",
        "vector = tfidf.fit_transform(data['comb'])\n"
      ],
      "execution_count": null,
      "outputs": []
    },
    {
      "cell_type": "markdown",
      "metadata": {
        "id": "Zont6lA0bsD5"
      },
      "source": [
        "##Computing the Cosine Similarity Matrix to find the closest movies to the movies. \n",
        "Each **ith Vector in the matrix** is the **collection of all the values that imply how close the jth movie is to the ith movie**. We use this later to **find 10 largest values, other than the movie itself** to depict the recommended movies that are close to the given movie(Based on the factors)."
      ]
    },
    {
      "cell_type": "code",
      "metadata": {
        "id": "FVmbJKDMDbxH",
        "colab": {
          "base_uri": "https://localhost:8080/"
        },
        "outputId": "445ef1ac-85be-4f5f-9a70-ad659dfc3514"
      },
      "source": [
        "similarity = cosine_similarity(vector)\n",
        "print(\"similarity:\",similarity)"
      ],
      "execution_count": null,
      "outputs": [
        {
          "output_type": "stream",
          "text": [
            "similarity: [[1.         0.0327055  0.021148   ... 0.01375698 0.0095136  0.        ]\n",
            " [0.0327055  1.         0.01943422 ... 0.01264215 0.00874265 0.        ]\n",
            " [0.021148   0.01943422 1.         ... 0.         0.05767289 0.00748532]\n",
            " ...\n",
            " [0.01375698 0.01264215 0.         ... 1.         0.00561601 0.        ]\n",
            " [0.0095136  0.00874265 0.05767289 ... 0.00561601 1.         0.01081919]\n",
            " [0.         0.         0.00748532 ... 0.         0.01081919 1.        ]]\n"
          ],
          "name": "stdout"
        }
      ]
    },
    {
      "cell_type": "code",
      "metadata": {
        "id": "OjRldYf6Db61",
        "colab": {
          "base_uri": "https://localhost:8080/"
        },
        "outputId": "4878572d-494a-437b-dd5e-e7c32da094cc"
      },
      "source": [
        "m=input(\"Enter the movie:\").lower()"
      ],
      "execution_count": null,
      "outputs": [
        {
          "output_type": "stream",
          "text": [
            "Enter the movie:liar liar\n"
          ],
          "name": "stdout"
        }
      ]
    },
    {
      "cell_type": "code",
      "metadata": {
        "id": "c-Y2Q82hDndX"
      },
      "source": [
        "#We try to fetch the movie based on the name and get   the index, if the name does not exist, the console gets exited.\n",
        "\n",
        "try:\n",
        "  i = data.loc[data['movie_title']==m].index[0]\n",
        "except:\n",
        "  print(colored(\"Sorry Your movie doesn't exist in our database\",'red'))\n",
        "  exit()"
      ],
      "execution_count": null,
      "outputs": []
    },
    {
      "cell_type": "code",
      "metadata": {
        "id": "C1UoVgsODnqb"
      },
      "source": [
        "#We later fetch the movie similarity vector/array from the similarities using the index, i. We enumerate it, to keep the indexes of the movies that caught ouuuur attention.\n",
        "#Once, we get the enumerated values, we sort them based on the similarity score in descending order.\n",
        "\n",
        "lst = list(enumerate(similarity[i]))\n",
        "lst = sorted(lst, key = lambda x:x[1] ,reverse=True)"
      ],
      "execution_count": null,
      "outputs": []
    },
    {
      "cell_type": "code",
      "metadata": {
        "id": "VuzzrIeZDtpD",
        "colab": {
          "base_uri": "https://localhost:8080/"
        },
        "outputId": "f055211b-3279-492e-9907-03174761a351"
      },
      "source": [
        "# We pick the values from 1 to 11, note that zero index has the respective movie itself.\n",
        "\n",
        "lst = lst[1:11]\n",
        "l = []\n",
        "lst\n"
      ],
      "execution_count": null,
      "outputs": [
        {
          "output_type": "execute_result",
          "data": {
            "text/plain": [
              "[(2731, 0.279506731479844),\n",
              " (4075, 0.1885346724772953),\n",
              " (3030, 0.1775622141719012),\n",
              " (2594, 0.17250754454554246),\n",
              " (4454, 0.1666197401032055),\n",
              " (3502, 0.1606530677978508),\n",
              " (1826, 0.15659743920585784),\n",
              " (1334, 0.15123618560475302),\n",
              " (989, 0.14889992829711984),\n",
              " (620, 0.14673430387947964)]"
            ]
          },
          "metadata": {
            "tags": []
          },
          "execution_count": 10
        }
      ]
    },
    {
      "cell_type": "code",
      "metadata": {
        "id": "i5pC3QUND3ME"
      },
      "source": [
        "#Once, we get the top 10 movies, we append the names into an empty list.\n",
        "\n",
        "for i in range(len(lst)):\n",
        "    a = lst[i][0]\n",
        "    l.append(data['movie_title'][a])"
      ],
      "execution_count": null,
      "outputs": []
    },
    {
      "cell_type": "code",
      "metadata": {
        "id": "VBhX0b7Hv0_T",
        "colab": {
          "base_uri": "https://localhost:8080/"
        },
        "outputId": "f12687a6-b6c4-479a-9309-2ff31deb6fb7"
      },
      "source": [
        "print(colored('\\t\\t\\t\\t\\t\\t\\tThe top 10 recommended movies based on your search are','blue'))\n",
        "for movie in l:\n",
        "  print(colored(f'\\t\\t\\t\\t\\t\\t\\t\\t\\t{movie.title()}','green'))"
      ],
      "execution_count": null,
      "outputs": [
        {
          "output_type": "stream",
          "text": [
            "\u001b[34m\t\t\t\t\t\t\tThe top 10 recommended movies based on your search are\u001b[0m\n",
            "\u001b[32m\t\t\t\t\t\t\t\t\tThe Golden Child\u001b[0m\n",
            "\u001b[32m\t\t\t\t\t\t\t\t\tSublime\u001b[0m\n",
            "\u001b[32m\t\t\t\t\t\t\t\t\tMotherhood\u001b[0m\n",
            "\u001b[32m\t\t\t\t\t\t\t\t\tDangerous Liaisons\u001b[0m\n",
            "\u001b[32m\t\t\t\t\t\t\t\t\tQuinceañera\u001b[0m\n",
            "\u001b[32m\t\t\t\t\t\t\t\t\tThe Haunting Of Molly Hartley\u001b[0m\n",
            "\u001b[32m\t\t\t\t\t\t\t\t\tBright Lights, Big City\u001b[0m\n",
            "\u001b[32m\t\t\t\t\t\t\t\t\tThis Is 40\u001b[0m\n",
            "\u001b[32m\t\t\t\t\t\t\t\t\tInsomnia\u001b[0m\n",
            "\u001b[32m\t\t\t\t\t\t\t\t\tPrimary Colors\u001b[0m\n"
          ],
          "name": "stdout"
        }
      ]
    },
    {
      "cell_type": "markdown",
      "metadata": {
        "id": "1ybrRC6shiXV"
      },
      "source": [
        "##Once, we have got the recommendations, let's compare how the  values are associated in the **similarity matrix** with the help of plotting the **line graph** with **cosine similarity vs movies** ."
      ]
    },
    {
      "cell_type": "code",
      "metadata": {
        "id": "xSsiLAdOwJ17",
        "colab": {
          "base_uri": "https://localhost:8080/",
          "height": 621
        },
        "outputId": "b91f6bd5-963c-4673-a066-bdf642552599"
      },
      "source": [
        "import matplotlib.pyplot  as plt\n",
        "plt.figure(figsize = (15,10))\n",
        "plt.plot(sorted(similarity[i],reverse = True), label = \"All Similar\")\n",
        "plt.plot(sorted(similarity[i][0:100],reverse = True), label = \"Top 100 Similar Movies\")\n",
        "plt.title(f\"Similar Movies to {m.title()}\", fontsize = 25)\n",
        "plt.ylabel(\"Cosine Similarity Values\", fontsize = 20)\n",
        "plt.tick_params(labelsize = 15)\n",
        "plt.legend(fontsize = 20)\n",
        "plt.show()"
      ],
      "execution_count": null,
      "outputs": [
        {
          "output_type": "display_data",
          "data": {
            "image/png": "[encoded data removed]",
            "text/plain": [
              "<Figure size 1080x720 with 1 Axes>"
            ]
          },
          "metadata": {
            "tags": [],
            "needs_background": "light"
          }
        }
      ]
    }
  ]
}